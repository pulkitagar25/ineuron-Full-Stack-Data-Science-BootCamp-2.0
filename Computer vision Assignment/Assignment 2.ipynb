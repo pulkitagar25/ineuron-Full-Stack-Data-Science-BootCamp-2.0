{
 "cells": [
  {
   "cell_type": "markdown",
   "metadata": {},
   "source": [
    "## Assignment 2 "
   ]
  },
  {
   "attachments": {
    "download.jpg": {
     "image/jpeg": "[encoded data removed]"
    }
   },
   "cell_type": "markdown",
   "metadata": {},
   "source": [
    "## 1. Explain convolutional neural network, and how does it work?\n",
    "\n",
    "\n",
    "\n",
    "Ans=>\n",
    "\n",
    "A convolutional neural network (CNN) is a type of deep neural network that is commonly used for image classification and other computer vision tasks. The main idea behind CNNs is to use convolutional operations, which are a type of mathematical operation applied on a small matrix (known as a kernel or filter) and a larger matrix (known as the feature map or input), to extract features from an input image. The extracted features are then processed by multiple layers of the network to generate a prediction.\n",
    "\n",
    "In a CNN, the input image is passed through multiple convolutional layers, each of which applies a set of filters to the input to produce a feature map. The filters are learned during training and are used to detect different features in the image, such as edges, corners, textures, and shapes. The feature maps are then downsampled using pooling layers, which reduce the spatial dimensions of the feature maps while preserving the important information. The resulting feature maps are then fed into fully connected layers, which produce the final prediction.\n",
    "![download.jpg](attachment:download.jpg)"
   ]
  },
  {
   "cell_type": "markdown",
   "metadata": {},
   "source": [
    "## 2. How does refactoring parts of your neural network definition favor you?\n",
    "\n",
    "\n",
    "Ans=>\n",
    "\n",
    "Refactoring parts of a neural network definition can have several benefits. For example:\n",
    "- Improved performance: Refactoring the network architecture, such as adding or removing layers, changing the number of neurons in each layer, or modifying the activation function, can lead to improved performance on the task being solved.\n",
    "\n",
    "- Simplicity: Removing redundant or unnecessary layers can simplify the network and reduce the number of parameters to be learned, making training easier and faster.\n",
    "\n",
    "- Better generalization: Refactoring the network to include regularization techniques, such as dropout or weight decay, can help to prevent overfitting and improve the network's generalization to new data.\n",
    "\n",
    "- Faster convergence: Modifying the learning rate or optimizer can lead to faster convergence and improved performance."
   ]
  },
  {
   "cell_type": "markdown",
   "metadata": {},
   "source": [
    "## 3. What does it mean to flatten? Is it necessary to include it in the MNIST CNN? What is the reason for this?\n",
    "\n",
    "Ans=>\n",
    "\n",
    "Flattening in the context of a neural network refers to the process of converting a multi-dimensional array, such as a feature map, into a one-dimensional array. This is typically done prior to passing the data to the fully connected layers of a network, as these layers expect a one-dimensional input.\n",
    "In the MNIST CNN, flattening is necessary because the final prediction is made by the fully connected layers, which expect a one-dimensional input. The feature maps generated by the convolutional layers have multiple dimensions, which need to be flattened into a single vector so that they can be processed by the fully connected layers. The reason for this is that the fully connected layers make predictions based on the entire feature map, rather than just a small region of it, and the one-dimensional representation makes it easier to perform this computation."
   ]
  },
  {
   "cell_type": "markdown",
   "metadata": {},
   "source": [
    "## 4. What exactly does NCHW stand for?\n",
    "\n",
    "\n",
    "Ans=>\n",
    "\n",
    "NCHW stands for \"batch size, number of channels, height, and width\". It is a common data format for representing multi-dimensional arrays in deep learning, particularly for input data that has a spatial structure, such as images. NCHW format orders the dimensions of the array such that the batch size is the first dimension, followed by the number of channels, the height, and finally the width."
   ]
  },
  {
   "cell_type": "markdown",
   "metadata": {},
   "source": [
    "## 5. Why are there 7*7*(1168-16) multiplications in the MNIST CNN's third layer?\n",
    "\n",
    "\n",
    "\n",
    "\n",
    "Ans=>\n",
    "\n",
    "In the MNIST CNN's third layer, there are 77(1168-16) multiplications because the layer is a fully connected layer that takes as input a 7x7x1168 feature map produced by the previous layer and produces a 1x1x16 feature map. The 7x7x1168 feature map has 1168 activations, each of which is connected to 16 neurons in the third layer, so there are 1168*16=18,688 connections in the layer. Each connection requires a multiplication operation, so there are 18,688 multiplications in the layer."
   ]
  },
  {
   "cell_type": "markdown",
   "metadata": {},
   "source": [
    "## 6.Explain definition of  receptive field?\n",
    "\n",
    "\n",
    "\n",
    "Ans=>\n",
    "\n",
    "The receptive field of a neuron in a convolutional neural network refers to the portion of the input that the neuron uses to make its prediction. For example, in a convolutional layer, the receptive field of a neuron can be thought of as the region of the input that is covered by the kernel or filter applied by the neuron. The size of the receptive field can be controlled by the size of the kernel, the stride, and the padding applied to the input. In general, larger receptive fields capture more contextual information from the input, which can be useful for detecting patterns or features that span a larger region."
   ]
  },
  {
   "cell_type": "markdown",
   "metadata": {},
   "source": [
    "## 7. What is the scale of an activation's receptive field after two stride-2 convolutions? What is the reason for this?\n",
    "\n",
    "Ans=>\n",
    "\n",
    "The scale of an activation's receptive field after two stride-2 convolutions is 4 times smaller than its original scale. The reason for this is that the stride of 2 reduces the spatial dimensions of the feature map by a factor of 2 with each convolution, effectively downsampling the feature map and reducing its scale. For example, if the original size of the feature map is 28x28, then after two stride-2 convolutions, the size of the feature map would be reduced to 14x14, and the receptive field of each activation in the feature map would cover a 4 times smaller region of the input."
   ]
  },
  {
   "cell_type": "markdown",
   "metadata": {},
   "source": [
    "## 8. What is the tensor representation of a color image?\n",
    "\n",
    "\n",
    "Ans=>\n",
    "\n",
    "The tensor representation of a color image is typically a multi-dimensional array, where each dimension represents a different aspect of the image, such as height, width, and color channels. In the case of a 3-channel color image, the tensor representation would have 3 dimensions: height, width, and the 3 color channels (red, green, and blue). Each element in the tensor corresponds to a pixel in the image, and the values stored in the tensor represent the intensities of the color channels at that pixel."
   ]
  },
  {
   "cell_type": "markdown",
   "metadata": {},
   "source": [
    "## 9. How does a color input interact with a convolution?\n",
    "\n",
    "\n",
    "Ans=>\n",
    "\n",
    "In a convolution, a color input interacts with the convolutional kernel by first converting the input from a 3-channel image to a 3-dimensional tensor. The convolution then applies the kernel to each channel of the input tensor independently, treating each channel as a separate 2-dimensional feature map. The result of the convolution is a single 2-dimensional feature map that captures the responses of the kernel to each channel of the input. This feature map is then used as input to the next layer in the network, where it is processed further to extract higher-level features."
   ]
  },
  {
   "cell_type": "markdown",
   "metadata": {},
   "source": [
    "## ----------------------------------------------------------------------------------------------------------------------------------"
   ]
  }
 ],
 "metadata": {
  "kernelspec": {
   "display_name": "Python 3",
   "language": "python",
   "name": "python3"
  },
  "language_info": {
   "codemirror_mode": {
    "name": "ipython",
    "version": 3
   },
   "file_extension": ".py",
   "mimetype": "text/x-python",
   "name": "python",
   "nbconvert_exporter": "python",
   "pygments_lexer": "ipython3",
   "version": "3.8.10"
  }
 },
 "nbformat": 4,
 "nbformat_minor": 4
}
