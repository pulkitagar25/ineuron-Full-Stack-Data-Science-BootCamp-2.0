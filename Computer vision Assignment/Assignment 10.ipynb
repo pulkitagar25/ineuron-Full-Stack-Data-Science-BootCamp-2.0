{
 "cells": [
  {
   "cell_type": "markdown",
   "metadata": {},
   "source": [
    "## Assignment 10"
   ]
  },
  {
   "cell_type": "markdown",
   "metadata": {},
   "source": [
    "## 1. Why don't we start all of the weights with zeros?\n",
    "\n",
    "Ans=>\n",
    "\n",
    "Starting all of the weights with zeros is not a good idea because all of the neurons in the network will receive the same input and will produce the same output. This results in the network being unable to learn any meaningful features or relationships, as all neurons will learn the same features. This is known as symmetry breaking, and it is important for the weights to have different initial values to allow for different features to be learned by different neurons in the network."
   ]
  },
  {
   "cell_type": "markdown",
   "metadata": {},
   "source": [
    "## 2. Why is it beneficial to start weights with a mean zero distribution?\n",
    "\n",
    "\n",
    "Ans=>\n",
    "\n",
    "Starting the weights with a mean zero distribution is beneficial because it allows for symmetry breaking. A mean zero distribution means that the average value of the weights is zero, and the values are randomly distributed around zero. This random distribution ensures that the neurons in the network will learn different features, and the mean zero distribution helps to prevent saturation in the activation functions."
   ]
  },
  {
   "cell_type": "markdown",
   "metadata": {},
   "source": [
    "## 3. What is dilated convolution, and how does it work?\n",
    "\n",
    "\n",
    "\n",
    "Ans=>\n",
    "\n",
    "Dilated Convolution is a type of convolutional operation that allows for the expansion of the effective receptive field of a neuron without increasing the number of parameters. In a dilated convolution, the convolutional filter is spaced apart by a certain factor, known as the dilation rate. This allows the filter to capture larger, more global features in the input while maintaining the same number of parameters as a regular convolutional filter. Dilated convolution is often used in semantic segmentation tasks where large contextual information is important."
   ]
  },
  {
   "cell_type": "markdown",
   "metadata": {},
   "source": [
    "## 4. What is TRANSPOSED CONVOLUTION, and how does it work?\n",
    "\n",
    "\n",
    "\n",
    "Ans=>\n",
    "\n",
    "Transposed Convolution, also known as Deconvolution, is a type of convolutional operation that is used to increase the spatial dimensions of the feature maps produced by a CNN. Transposed convolution works by applying a set of filters to the input feature maps, and then up-sampling the output to produce a higher-resolution feature map. Transposed convolution is often used in tasks such as image generation or image segmentation, where it is important to generate high-resolution outputs."
   ]
  },
  {
   "cell_type": "markdown",
   "metadata": {},
   "source": [
    "## 5.Explain Separable convolution\n",
    "\n",
    "\n",
    "Ans=>\n",
    "\n",
    "Separable Convolution is a type of convolutional operation that aims to reduce the number of parameters and computation in a convolutional neural network. In a separable convolution, the convolutional operation is separated into two separate operations: a depthwise convolution and a pointwise convolution. The depthwise convolution is applied to each channel of the input separately, and the pointwise convolution is applied to combine the output from the individual channels. This structure leads to fewer parameters and computations, making the network more efficient and faster to train."
   ]
  },
  {
   "cell_type": "markdown",
   "metadata": {},
   "source": [
    "## 6.What is depthwise convolution, and how does it work?\n",
    "\n",
    "\n",
    "\n",
    "Ans=>\n",
    "\n",
    "Depthwise Convolution is a type of 2D convolution operation that is applied separately to each channel of an input tensor. In other words, instead of having a single convolutional filter that operates on all channels of the input, depthwise convolution applies a separate filter to each channel. This allows for more fine-grained control over feature extraction, as each channel can be processed independently. The depthwise convolution operation is typically followed by a pointwise convolution, which combines the output from the individual channels into a single tensor."
   ]
  },
  {
   "cell_type": "markdown",
   "metadata": {},
   "source": [
    "## 7.What is Depthwise separable convolution, and how does it work?\n",
    "\n",
    "\n",
    "\n",
    "Ans=>\n",
    "\n",
    "Depthwise Separable Convolution is an extension of depthwise convolution. In this type of convolution, the depthwise convolution and pointwise convolution are separated into two different operations. The depthwise convolution operation is applied first to extract features from each channel, and then a pointwise convolution operation is applied to combine the features across channels. This structure leads to fewer parameters and computations, making it more efficient and faster to train."
   ]
  },
  {
   "cell_type": "markdown",
   "metadata": {},
   "source": [
    "## 8.Capsule networks are what they sound like.\n",
    "\n",
    "\n",
    "Ans=>\n",
    "\n",
    "Capsule Networks are a type of neural network architecture that aims to improve upon the limitations of traditional convolutional neural networks (CNNs) in processing hierarchical relationships between objects in an image. Capsule networks consist of \"capsules,\" which are small neural networks that represent different parts or properties of an object. These capsules output a vector that encodes the properties of the object, and the vectors are processed by a routing mechanism to form a \"prediction vector\" that represents the entire object. This approach allows for improved modeling of relationships and orientation between objects, compared to traditional CNNs that only model relationships based on spatial proximity."
   ]
  },
  {
   "cell_type": "markdown",
   "metadata": {},
   "source": [
    "## 9. Why is POOLING such an important operation in CNNs?\n",
    "\n",
    "\n",
    "\n",
    "Ans=>\n",
    "\n",
    "Pooling is an important operation in Convolutional Neural Networks (CNNs) because it reduces the spatial dimensions of the feature maps produced by the convolutional layers. This reduction, also known as down-sampling, helps to reduce the number of parameters and computation in the network, and also helps to prevent overfitting. Pooling also helps to make the features learned by the network more robust, as pooling layers act as a form of non-linear down-sampling that emphasizes the most important features and discards the less important ones."
   ]
  },
  {
   "cell_type": "markdown",
   "metadata": {},
   "source": [
    "## 10. What are receptive fields and how do they work?\n",
    "\n",
    "\n",
    "Ans=>\n",
    "\n",
    "Receptive fields in Convolutional Neural Networks (CNNs) refer to the portion of an image that a particular neuron in the network is responsible for processing. The receptive field of a neuron is defined by the size and shape of the convolutional filter applied to the input image, as well as the number of strides and pooling operations applied to the feature maps. Receptive fields allow the network to learn local features and relationships between pixels in the image, and as the feature maps are processed through the network, the receptive fields get larger, allowing the network to learn higher-level, more abstract features and relationships."
   ]
  },
  {
   "cell_type": "markdown",
   "metadata": {},
   "source": [
    "## ----------------------------------------------------------------------------------------------------------------------------------"
   ]
  }
 ],
 "metadata": {
  "kernelspec": {
   "display_name": "Python 3",
   "language": "python",
   "name": "python3"
  },
  "language_info": {
   "codemirror_mode": {
    "name": "ipython",
    "version": 3
   },
   "file_extension": ".py",
   "mimetype": "text/x-python",
   "name": "python",
   "nbconvert_exporter": "python",
   "pygments_lexer": "ipython3",
   "version": "3.8.10"
  }
 },
 "nbformat": 4,
 "nbformat_minor": 4
}
