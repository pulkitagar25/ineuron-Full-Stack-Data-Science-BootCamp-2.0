{
 "cells": [
  {
   "cell_type": "markdown",
   "metadata": {},
   "source": [
    "## Assignment 13"
   ]
  },
  {
   "cell_type": "markdown",
   "metadata": {},
   "source": [
    "## 1. Provide an example of the concepts of Prior, Posterior, and Likelihood.\n",
    "\n",
    "\n",
    "Ans=>\n",
    "\n",
    "Example of Prior, Posterior, and Likelihood:\n",
    "Consider a medical diagnostic test for a disease, where the prior probability of having the disease is 0.1 (10% of the population has it). The test has a accuracy of 95%, meaning that it correctly identifies 95% of patients who have the disease and 95% of patients who do not have the disease. The likelihood of a positive test result given that a patient has the disease is 0.95, and the likelihood of a negative test result given that a patient does not have the disease is 0.95.\n",
    "\n",
    "Given a positive test result, the posterior probability of having the disease can be calculated using Bayes' theorem as the product of the prior probability and the likelihood of a positive test result given the disease divided by the sum of the products of the prior and likelihood for both outcomes (having the disease or not having the disease). In this case, the posterior probability of having the disease given a positive test result would be calculated as (0.1 * 0.95) / ((0.1 * 0.95) + (0.9 * 0.05)) = 0.65."
   ]
  },
  {
   "cell_type": "markdown",
   "metadata": {},
   "source": [
    "## 2. What role does Bayes' theorem play in the concept learning principle?\n",
    "\n",
    "\n",
    "\n",
    "\n",
    "Ans=>\n",
    "\n",
    "Bayes' theorem plays a crucial role in the concept learning principle by providing a mathematical framework for updating probabilities in light of new evidence. The theorem allows for the calculation of posterior probabilities based on prior probabilities and likelihood probabilities, enabling the updating of beliefs in light of new data. This is an essential aspect of Bayesian learning, as it enables the incorporation of new data into the learning process, leading to improved predictions over time."
   ]
  },
  {
   "cell_type": "markdown",
   "metadata": {},
   "source": [
    "## 3. Offer an example of how the Nave Bayes classifier is used in real life.\n",
    "\n",
    "\n",
    "\n",
    "\n",
    "Ans=>\n",
    "\n",
    "Example of Nave Bayes classifier in real life:\n",
    "One example of the Nave Bayes classifier in real life is spam filtering. The Nave Bayes classifier can be used to automatically classify incoming emails as spam or not spam based on their content. The classifier is trained on a dataset of emails labeled as spam or not spam, and it uses the Nave Bayes algorithm to calculate the probability that a new email is spam based on its content and the prior probabilities learned from the training data."
   ]
  },
  {
   "cell_type": "markdown",
   "metadata": {},
   "source": [
    "## 4. Can the Nave Bayes classifier be used on continuous numeric data? If so, how can you go about doing it?\n",
    "\n",
    "\n",
    "\n",
    "Ans=>\n",
    "\n",
    "Nave Bayes classifier can be used on continuous numeric data by using a Gaussian Nave Bayes classifier. In this case, the continuous numeric data is modeled as a Gaussian distribution, and the probabilities are calculated based on this distribution."
   ]
  },
  {
   "cell_type": "markdown",
   "metadata": {},
   "source": [
    "## 5. What are Bayesian Belief Networks, and how do they work? What are their applications? Are they capable of resolving a wide range of issues?\n",
    "\n",
    "\n",
    "\n",
    "Ans=>\n",
    "\n",
    "Bayesian Belief Networks (BBN) are graphical models that represent the relationships between variables and their probabilities in a probabilistic framework. They work by representing the variables and their relationships as nodes in a graph, and calculating the probabilities based on the relationships between the nodes. The probabilities are updated as new data is incorporated, leading to improved predictions over time. Applications of BBN include decision-making, risk assessment, and predictive modeling. BBNs are capable of resolving a wide range of issues, as they provide a flexible framework for probabilistic modeling and learning."
   ]
  },
  {
   "cell_type": "markdown",
   "metadata": {},
   "source": [
    "## 6. Passengers are checked in an airport screening system to see if there is an intruder. Let I be the random variable that indicates whether someone is an intruder I = 1) or not I = 0), and A be the variable that indicates alarm I = 0). If an intruder is detected with probability P(A = 1|I = 1) = 0.98 and a non-intruder is detected with probability P(A = 1|I = 0) = 0.001, an alarm will be triggered, implying the error factor. The likelihood of an intruder in the passenger population is P(I = 1) = 0.00001. What are the chances that an alarm would be triggered when an individual is actually an intruder?\n",
    "\n",
    "\n",
    "\n",
    "Ans=>\n",
    "\n",
    "The probability of an alarm being triggered given that the passenger is an intruder can be calculated using Bayes' theorem:\n",
    "\n",
    "P(I = 1|A = 1) = (P(A = 1|I = 1) * P(I = 1)) / P(A = 1)\n",
    "\n",
    "where P(A = 1) is the overall probability of an alarm being triggered, which can be calculated as the sum of the probabilities of an alarm being triggered given that the passenger is either an intruder or not:\n",
    "\n",
    "P(A = 1) = P(A = 1|I = 1) * P(I = 1) + P(A = 1|I = 0) * P(I = 0)\n",
    "\n",
    "Substituting the given values, we get:\n",
    "\n",
    "P(A = 1) = (0.98 * 0.00001) + (0.001 * (1 - 0.00001)) = 0.0009898\n",
    "\n",
    "So, the probability of an individual being an intruder given that an alarm is triggered is:\n",
    "\n",
    "P(I = 1|A = 1) = (0.98 * 0.00001) / 0.0009898 = 0.09901\n",
    "\n",
    "Thus, there is a 9.901% chance that an alarm would be triggered when an individual is actually an intruder."
   ]
  },
  {
   "cell_type": "markdown",
   "metadata": {},
   "source": [
    "## 7. An antibiotic resistance test (random variable T) has 1% false positives (i.e., 1% of those who are not immune to an antibiotic display a positive result in the test) and 5% false negatives (i.e., 1% of those who are not resistant to an antibiotic show a positive result in the test) (i.e. 5 percent of those actually resistant to an antibiotic test negative). Assume that 2% of those who were screened were antibiotic-resistant. Calculate the likelihood that a person who tests positive is actually immune (random variable D).\n",
    "\n",
    "Ans=>\n",
    "\n",
    "The likelihood of a person who tests positive being actually immune can be calculated using Bayes' theorem:\n",
    "\n",
    "P(D = 1|T = 1) = (P(T = 1|D = 1) * P(D = 1)) / P(T = 1)\n",
    "\n",
    "where P(T = 1) is the overall probability of a positive test result, which can be calculated as the sum of the probabilities of a positive test result given that the person is either immune or not:\n",
    "\n",
    "P(T = 1) = P(T = 1|D = 1) * P(D = 1) + P(T = 1|D = 0) * P(D = 0)\n",
    "\n",
    "Substituting the given values, we get:\n",
    "\n",
    "P(T = 1) = (1 * 0.02) + (0.01 * (1 - 0.02)) = 0.0202\n",
    "\n",
    "So, the probability of a person being immune given that the test is positive is:\n",
    "\n",
    "P(D = 1|T = 1) = (1 * 0.02) / 0.0202 = 0.985075\n",
    "\n",
    "Thus, there is a 98.5075% chance that a person who tests positive is actually immune."
   ]
  },
  {
   "cell_type": "markdown",
   "metadata": {},
   "source": [
    "## 8. In order to prepare for the test, a student knows that there will be one question in the exam that is either form A, B, or C. The chances of getting an A, B, or C on the exam are 30 percent, 20%, and 50 percent, respectively. During the planning, the student solved 9 of 10 type A problems, 2 of 10 type B problems, and 6 of 10 type C problems.\n",
    "\n",
    "         1. What is the likelihood that the student can solve the exam problem?\n",
    "\n",
    "         2. Given the student's solution, what is the likelihood that the problem was of form A?\n",
    "\n",
    "\n",
    "\n",
    "Ans=>\n",
    "\n",
    "To calculate the likelihood that the student can solve the exam problem, we need to multiply the student's success rate for each type of problem by the probability of each type of problem appearing on the exam and then sum these values to get the overall probability:\n",
    "P(solve) = (0.9 * 0.3) + (0.2 * 0.2) + (0.6 * 0.5) = 0.57\n",
    "\n",
    "So, the likelihood that the student can solve the exam problem is 57%.\n",
    "\n",
    "To calculate the likelihood that the problem was of form A, given that the student solved the problem, we need to use Bayes' theorem:\n",
    "P(A|solve) = (P(solve|A) * P(A)) / P(solve)\n",
    "\n",
    "where P(A) is the prior probability of the problem being of form A (30%), P(solve|A) is the student's success rate for type A problems (9 of 10), and P(solve) is the overall probability of solving the exam problem (57% from above).\n",
    "\n",
    "Substituting the values, we get:\n",
    "\n",
    "P(A|solve) = (0.9 * 0.3) / 0.57 = 0.514285714\n",
    "\n",
    "So, the likelihood that the problem was of form A, given that the student solved the problem, is 51.4285714%."
   ]
  },
  {
   "cell_type": "markdown",
   "metadata": {},
   "source": [
    "## 9. A bank installs a CCTV system to track and photograph incoming customers. Despite the constant influx of customers, we divide the timeline into 5 minute bins. There may be a customer coming into the bank with a 5% chance in each 5-minute time period, or there may be no customer (again, for simplicity, we assume that either there is 1 customer or none, not the case of multiple customers). If there is a client, the CCTV will detect them with a 99 percent probability. If there is no customer, the camera can take a false photograph with a 10% chance of detecting movement from other objects.\n",
    "\n",
    "                1. How many customers come into the bank on a daily basis (10 hours)?\n",
    "\n",
    "                2. On a daily basis, how many fake photographs (photographs taken when there is no customer) and how many missed photographs (photographs taken when there is a customer) are there?\n",
    "\n",
    "                3. Explain likelihood that there is a customer if there is a photograph?\n",
    "\n",
    "\n",
    "\n",
    "Ans=>\n",
    "\n",
    "Let X be the number of customers entering the bank on a daily basis (10 hours). We can calculate the expected value of X as follows:\n",
    "E(X) = 10 hours * 5 minutes/hour * 5%/5 minutes = 10 * 5% = 0.5 customers/day\n",
    "\n",
    "So, on average, we can expect 0.5 customers to come into the bank every day.\n",
    "\n",
    "Let Y be the number of fake photographs and Z be the number of missed photographs. The expected number of fake photographs can be calculated as follows:\n",
    "E(Y) = 10 hours * 5 minutes/hour * 10%/5 minutes = 10 * 10% = 1 photograph/day\n",
    "\n",
    "The expected number of missed photographs can be calculated as follows:\n",
    "\n",
    "E(Z) = 0.5 customers/day * (1 - 99%) = 0.5 * 0.01 = 0.005 photographs/day\n",
    "\n",
    "So, on average, we can expect 1 fake photograph and 0.005 missed photographs per day.\n",
    "\n",
    "Given a photograph has been taken, we can use Bayes' theorem to calculate the likelihood that there is a customer.\n",
    "P(Customer | Photograph) = P(Photograph | Customer) * P(Customer) / (P(Photograph | Customer) * P(Customer) + P(Photograph | No Customer) * P(No Customer))\n",
    "\n",
    "Where P(Customer) = 0.5, P(No Customer) = 1 - 0.5 = 0.5, P(Photograph | Customer) = 99%, and P(Photograph | No Customer) = 10%.\n",
    "\n",
    "Substituting the values, we get:\n",
    "\n",
    "P(Customer | Photograph) = 99% * 0.5 / (99% * 0.5 + 10% * 0.5) = 0.941\n",
    "\n",
    "So, the likelihood that there is a customer given a photograph is 0.941."
   ]
  },
  {
   "cell_type": "markdown",
   "metadata": {},
   "source": [
    "## 10. Create the conditional probability table associated with the node Won Toss in the Bayesian Belief network to represent the conditional independence assumptions of the Nave Bayes classifier for the match winning prediction problem in Section 6.4.4.\n",
    "\n",
    "Ans=>\n",
    "\n"
   ]
  },
  {
   "cell_type": "markdown",
   "metadata": {},
   "source": [
    "## ----------------------------------------------------------------------------------------------------------------------------------"
   ]
  }
 ],
 "metadata": {
  "kernelspec": {
   "display_name": "Python 3",
   "language": "python",
   "name": "python3"
  },
  "language_info": {
   "codemirror_mode": {
    "name": "ipython",
    "version": 3
   },
   "file_extension": ".py",
   "mimetype": "text/x-python",
   "name": "python",
   "nbconvert_exporter": "python",
   "pygments_lexer": "ipython3",
   "version": "3.8.10"
  }
 },
 "nbformat": 4,
 "nbformat_minor": 4
}
