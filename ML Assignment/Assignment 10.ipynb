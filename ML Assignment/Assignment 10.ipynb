{
 "cells": [
  {
   "cell_type": "markdown",
   "metadata": {},
   "source": [
    "## Assignment 10"
   ]
  },
  {
   "cell_type": "markdown",
   "metadata": {},
   "source": [
    "## 1.\tDefine the Bayesian interpretation of probability.\n",
    "\n",
    "\n",
    "Ans=>\n",
    "\n",
    "In Bayesian probability, the probability of an event is defined as a measure of one's belief or degree of certainty in the occurrence of the event, which is updated as more evidence is obtained. This interpretation views probabilities as subjective, personal, and constantly updated based on new information, and allows for incorporating prior beliefs and knowledge into probability calculations."
   ]
  },
  {
   "cell_type": "markdown",
   "metadata": {},
   "source": [
    "## 2.\tDefine probability of a union of two events with equation.\n",
    "\n",
    "\n",
    "Ans=>\n",
    "\n",
    "The probability of the union of two events A and B, denoted by P(A∪B), is the sum of the individual probabilities of the events, minus the probability of their intersection. This can be expressed mathematically as:\n",
    "\n",
    "P(A∪B) = P(A) + P(B) - P(A ∩ B)\n",
    "\n",
    "where P(A) and P(B) are the probabilities of events A and B, respectively, and P(A ∩ B) is the probability of the intersection of the two events. This formula comes from the principle of inclusion-exclusion.\n",
    "\n",
    "\n",
    "\n"
   ]
  },
  {
   "cell_type": "markdown",
   "metadata": {},
   "source": [
    "## 3.\tWhat is joint probability? What is its formula?\n",
    "4.\tWhat is chain rule of probability?\n",
    "5.\tWhat is conditional probability means? What is the formula of it?\n",
    "6.\tWhat are continuous random variables?\n",
    "7.\tWhat are Bernoulli distributions? What is the formula of it?\n",
    "8.\tWhat is binomial distribution? What is the formula?\n",
    "9.\tWhat is Poisson distribution? What is the formula?\n",
    "10.\tDefine covariance.\n",
    "11.\tDefine correlation\n",
    "12.\tDefine sampling with replacement. Give example.\n",
    "13.\tWhat is sampling without replacement? Give example.\n",
    "14.\tWhat is hypothesis? Give example.\n",
    "\n",
    "\n",
    "Ans=>\n",
    "\n",
    "Joint probability is the probability of two or more events happening simultaneously. The formula for the joint probability of events A and B is:\n",
    "P(A,B) = P(A|B) * P(B) = P(B|A) * P(A)\n",
    "\n",
    "where P(A|B) is the conditional probability of event A given event B has occurred and P(B|A) is the conditional probability of event B given event A has occurred."
   ]
  },
  {
   "cell_type": "markdown",
   "metadata": {},
   "source": [
    "## 4.\tWhat is chain rule of probability?\n",
    "\n",
    "Ans=>\n",
    "\n",
    "The chain rule of probability, also known as the \"probability of a sequence of events\", states that the joint probability of a sequence of events can be calculated by multiplying the conditional probabilities of each event given the occurrence of the previous events. Mathematically, it can be expressed as:\n",
    "\n",
    "P(A1, A2, ..., An) = P(A1) * P(A2|A1) * P(A3|A1,A2) * ... * P(An|A1,A2, ..., An-1)"
   ]
  },
  {
   "cell_type": "markdown",
   "metadata": {},
   "source": [
    "## 5.\tWhat is conditional probability means? What is the formula of it?\n",
    "\n",
    "\n",
    "\n",
    "Ans=>\n",
    "\n",
    "Conditional probability is the probability of an event given that another event has occurred. The formula for the conditional probability of event A given event B is:\n",
    "\n",
    "P(A|B) = P(A ∩ B) / P(B)\n",
    "\n",
    "where P(A ∩ B) is the joint probability of the events A and B and P(B) is the probability of event B.\n",
    "\n"
   ]
  },
  {
   "cell_type": "markdown",
   "metadata": {},
   "source": [
    "## 6.\tWhat are continuous random variables?\n",
    "\n",
    "Ans=>\n",
    "\n",
    "Continuous random variables are variables that can take on an infinite number of values within a certain range. Unlike discrete random variables, which have a finite number of possible values, continuous random variables are usually modeled using a continuous probability distribution function, such as the normal distribution."
   ]
  },
  {
   "cell_type": "markdown",
   "metadata": {},
   "source": [
    "## 7.\tWhat are Bernoulli distributions? What is the formula of it?\n",
    "\n",
    "\n",
    "\n",
    "Ans=>\n",
    "\n",
    "Bernoulli distributions are discrete probability distributions that model the outcome of a single binary event, such as a coin flip. The Bernoulli distribution is characterized by two possible outcomes, denoted by \"success\" and \"failure\", with a single parameter p that represents the probability of success. The formula for the Bernoulli distribution is:\n",
    "\n",
    "P(X = x) = p^x (1 - p)^(1 - x)\n",
    "\n",
    "where x = 0 represents failure and x = 1 represents success, and p is the probability of success (0 <= p <= 1)."
   ]
  },
  {
   "cell_type": "markdown",
   "metadata": {},
   "source": [
    "## 8.\tWhat is binomial distribution? What is the formula?\n",
    "\n",
    "\n",
    "Ans=>\n",
    "\n",
    "Binomial distribution is a discrete probability distribution that models the number of successful outcomes in a fixed number of independent trials. The trials are identical and have only two possible outcomes, such as success or failure. The formula for the binomial distribution is:\n",
    "\n",
    "P(X = x) = (n choose x) * p^x * (1 - p)^(n - x)\n",
    "\n",
    "where x is the number of successful outcomes, p is the probability of success, n is the number of trials, and (n choose x) is the binomial coefficient."
   ]
  },
  {
   "cell_type": "markdown",
   "metadata": {},
   "source": [
    "## 9.\tWhat is Poisson distribution? What is the formula?\n",
    "\n",
    "\n",
    "Ans=>\n",
    "\n",
    "Poisson distribution is a discrete probability distribution that models the number of events occurring in a fixed interval of time or space, when the events are rare and randomly distributed. The formula for the Poisson distribution is:\n",
    "\n",
    "P(X = x) = (e^(-λ) * λ^x) / x!\n",
    "\n",
    "where x is the number of events, λ is the average rate of events per unit of time or space, and e is the base of the natural logarithm."
   ]
  },
  {
   "cell_type": "markdown",
   "metadata": {},
   "source": [
    "## 10.\tDefine covariance.\n",
    "\n",
    "\n",
    "Ans=>\n",
    "\n",
    "Covariance is a measure of the linear relationship between two random variables. It measures the extent to which two variables change together. The formula for the covariance between two variables X and Y is:\n",
    "\n",
    "Cov(X, Y) = E[(X - E(X))(Y - E(Y))]\n",
    "\n",
    "where E(X) and E(Y) are the expected values of X and Y, respectively.\n",
    "\n"
   ]
  },
  {
   "cell_type": "markdown",
   "metadata": {},
   "source": [
    "## 11.\tDefine correlation\n",
    "\n",
    "\n",
    "Ans=>\n",
    "\n",
    "Correlation is a measure of the strength and direction of the linear relationship between two variables. It ranges from -1 to 1, with -1 indicating a perfect negative correlation, 0 indicating no correlation, and 1 indicating a perfect positive correlation. The formula for the Pearson correlation coefficient between two variables X and Y is:\n",
    "\n",
    "r = Cov(X, Y) / (StdDev(X) * StdDev(Y))\n",
    "\n",
    "where Cov(X, Y) is the covariance between X and Y, and StdDev(X) and StdDev(Y) are the standard deviations of X and Y, respectively."
   ]
  },
  {
   "cell_type": "markdown",
   "metadata": {},
   "source": [
    "## 12.\tDefine sampling with replacement. Give example.\n",
    "\n",
    "Ans=>\n",
    "\n",
    "Sampling with replacement refers to the process of randomly selecting items from a population with the possibility of selecting the same item more than once. An example would be drawing marbles from a bag and putting them back after each draw."
   ]
  },
  {
   "cell_type": "markdown",
   "metadata": {},
   "source": [
    "## 13.\tWhat is sampling without replacement? Give example.\n",
    "\n",
    "\n",
    "Ans=>\n",
    "\n",
    "Sampling without replacement refers to the process of randomly selecting items from a population without the possibility of selecting the same item more than once. An example would be drawing cards from a deck without putting them back."
   ]
  },
  {
   "cell_type": "markdown",
   "metadata": {},
   "source": [
    "## 14.\tWhat is hypothesis? Give example.\n",
    "\n",
    "\n",
    "\n",
    "Ans=>\n",
    "\n",
    "Hypothesis is an educated guess or a proposed explanation for a phenomenon or a set of observations. In statistical hypothesis testing, a hypothesis is a statement about a population parameter that is tested using a sample from the population. An example would be the hypothesis that the average height of adult men is greater than the average height of adult women."
   ]
  },
  {
   "cell_type": "markdown",
   "metadata": {},
   "source": [
    "## ----------------------------------------------------------------------------------------------------------------------------------"
   ]
  }
 ],
 "metadata": {
  "kernelspec": {
   "display_name": "Python 3",
   "language": "python",
   "name": "python3"
  },
  "language_info": {
   "codemirror_mode": {
    "name": "ipython",
    "version": 3
   },
   "file_extension": ".py",
   "mimetype": "text/x-python",
   "name": "python",
   "nbconvert_exporter": "python",
   "pygments_lexer": "ipython3",
   "version": "3.8.10"
  }
 },
 "nbformat": 4,
 "nbformat_minor": 4
}
