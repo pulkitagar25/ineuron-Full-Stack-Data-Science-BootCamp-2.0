{
 "cells": [
  {
   "cell_type": "markdown",
   "metadata": {},
   "source": [
    "## Assignment 22"
   ]
  },
  {
   "cell_type": "markdown",
   "metadata": {},
   "source": [
    "## 1. Is there any way to combine five different models that have all been trained on the same training data and have all achieved 95 percent precision? If so, how can you go about doing it? If not, what is the reason?\n",
    "\n",
    "\n",
    "\n",
    "Ans=>\n",
    "\n",
    "Yes, it is possible to combine the five different models to improve their performance. One way to do this is through ensemble learning, where multiple models are combined to make a single prediction. One popular method for combining models is voting, where the predictions of each model are combined using a majority vote. For example, in a hard voting classifier, the prediction of the majority of the models is taken as the final prediction, while in a soft voting classifier, the prediction is based on the weighted average of the predictions, where the weights are determined by the accuracy of each model."
   ]
  },
  {
   "cell_type": "markdown",
   "metadata": {},
   "source": [
    "## 2. What's the difference between hard voting classifiers and soft voting classifiers?\n",
    "\n",
    "\n",
    "Ans=>\n",
    "\n",
    "In a hard voting classifier, the final prediction is made based on the majority of the predictions made by individual models. In a soft voting classifier, the final prediction is based on the weighted average of the predictions made by individual models, where the weights are determined by the accuracy of each model. In a hard voting classifier, each model has an equal say in the final prediction, while in a soft voting classifier, models with higher accuracy have more influence on the final prediction."
   ]
  },
  {
   "cell_type": "markdown",
   "metadata": {},
   "source": [
    "## 3. Is it possible to distribute a bagging ensemble's training through several servers to speed up the process? Pasting ensembles, boosting ensembles, Random Forests, and stacking ensembles are all options.\n",
    "\n",
    "Ans=>\n",
    "\n",
    "Yes, it is possible to distribute the training of an ensemble model through several servers to speed up the process. This can be done through parallel computing, where the training is divided into smaller chunks and distributed among multiple servers, which work simultaneously to train the individual models. This approach can be applied to bagging ensembles, boosting ensembles, Random Forests, and stacking ensembles. The exact implementation of the parallel computing will depend on the specific ensemble method being used and the computing environment available."
   ]
  },
  {
   "cell_type": "markdown",
   "metadata": {},
   "source": [
    "## 4. What is the advantage of evaluating out of the bag?\n",
    "\n",
    "\n",
    "\n",
    "\n",
    "Ans=>\n",
    "The advantage of evaluating out-of-bag (OOB) is that it provides an estimate of the model's generalization performance without the need for a separate validation set. For each instance in the training set, some trees in the Random Forest are trained on that instance, while others are not. The instances that were not used for training a tree can be used to evaluate the model's performance on OOB data. This is a convenient way to assess the model's generalization performance because the OOB data is already available and does not require a separate validation set.\n",
    "\n",
    "\n"
   ]
  },
  {
   "cell_type": "markdown",
   "metadata": {},
   "source": [
    "## 5. What distinguishes Extra-Trees from ordinary Random Forests? What good would this extra randomness do? Is it true that Extra-Tree Random Forests are slower or faster than normal Random Forests?\n",
    "\n",
    "\n",
    "\n",
    "Ans=>\n",
    "\n",
    "at each node, instead of finding the best split among all features, a random subset of the features is selected, and the best split is chosen from this subset. This additional randomness leads to a more diversified set of trees, which helps to reduce overfitting. Secondly, in Extra-Trees, the feature threshold is randomly selected rather than being optimized to minimize impurity. As a result, Extra-Trees are more robust to irrelevant features and less sensitive to the scaling of the input features. The training process for Extra-Trees is generally faster than that of Random Forests."
   ]
  },
  {
   "cell_type": "markdown",
   "metadata": {},
   "source": [
    "## 6. Which hyperparameters and how do you tweak if your AdaBoost ensemble underfits the training data?\n",
    "\n",
    "\n",
    "\n",
    "Ans=>\n",
    "\n",
    "If your AdaBoost ensemble is underfitting the training set, you can try increasing the number of estimators or increasing the learning rate. Increasing the number of estimators allows the model to learn from more weak learners, which can lead to a better fit to the training data. Increasing the learning rate will cause the model to learn from the weak learners more quickly, which can also improve the model's fit to the training set."
   ]
  },
  {
   "cell_type": "markdown",
   "metadata": {},
   "source": [
    "## 7. Should you raise or decrease the learning rate if your Gradient Boosting ensemble overfits the training set?\n",
    "\n",
    "Ans=>\n",
    "\n",
    "If your Gradient Boosting ensemble is overfitting the training set, you should decrease the learning rate. This will cause the model to learn from the weak learners more slowly, which can help to reduce overfitting by allowing the model to gradually improve its fit to the training data. Additionally, increasing the number of trees in the ensemble and reducing the size of the trees can also help to mitigate overfitting."
   ]
  },
  {
   "cell_type": "markdown",
   "metadata": {},
   "source": [
    "## ----------------------------------------------------------------------------------------------------------------------------------"
   ]
  }
 ],
 "metadata": {
  "kernelspec": {
   "display_name": "Python 3",
   "language": "python",
   "name": "python3"
  },
  "language_info": {
   "codemirror_mode": {
    "name": "ipython",
    "version": 3
   },
   "file_extension": ".py",
   "mimetype": "text/x-python",
   "name": "python",
   "nbconvert_exporter": "python",
   "pygments_lexer": "ipython3",
   "version": "3.8.10"
  }
 },
 "nbformat": 4,
 "nbformat_minor": 4
}
