{
 "cells": [
  {
   "cell_type": "markdown",
   "metadata": {},
   "source": [
    "## Assignment 5"
   ]
  },
  {
   "cell_type": "markdown",
   "metadata": {},
   "source": [
    "## 1. What are the key tasks that machine learning entails? What does data pre-processing imply?\n",
    "\n",
    "\n",
    "Ans=>\n",
    "\n",
    "Data preprocessing is a process of preparing the raw data and making it suitable for a machine learning model. It is the first and crucial step while creating a machine learning model.\n",
    "\n",
    "Data preprocessing is required tasks for cleaning the data and making it suitable for a machine learning model which also increases the accuracy and efficiency of a machine learning model.\n",
    "\n",
    "It involves below steps:\n",
    "\n",
    "- Getting the dataset\n",
    "- Importing libraries\n",
    "- Importing datasets\n",
    "- Finding Missing Data\n",
    "- Encoding Categorical Data\n",
    "- Splitting dataset into training and test set\n",
    "- Feature scaling"
   ]
  },
  {
   "cell_type": "markdown",
   "metadata": {},
   "source": [
    "## 2. Describe quantitative and qualitative data in depth. Make a distinction between the two.\n",
    "\n",
    "\n",
    "Ans=>\n",
    "\n",
    "- Quantitative Data:- Quantitative Data, as the name suggests is one which deals with quantity or numbers. It refers to the data which computes the values and counts and can be expressed in numerical terms is called quantitative data.\n",
    "\n",
    "- Qualitative Data:- Qualitative Data refers to the data that provides insights and understanding about a particular problem. It can be approximated but cannot be computed.\n",
    "\n",
    "The fundamental points of difference between qualitative and quantitative data are discussed below:\n",
    "\n",
    "1. The data type, in which the classification of objects is based on attributes (quality) is called qualitative data. The type of data which can be counted and expressed in numbers and values is called quantitative data.\n",
    "2. The research methodology is exploratory in qualitative data, i.e. to provide insights and understanding. On the other hand, quantitative data is conclusive in nature which aims at testing a specific hypothesis and examine the relationships.\n",
    "3. The approach to inquiry in the case of qualitative data is subjective and holistic whereas quantitative data has an objective and focused approach.\n",
    "4. When the data type is qualitative the analysis is non-statistical. As opposed to quantitative data which uses statistical analysis.\n",
    "5. In qualitative data, there is an unstructured gathering of data. As against this, data collection is structured in quantitative data."
   ]
  },
  {
   "cell_type": "markdown",
   "metadata": {},
   "source": [
    "## 3. Create a basic data collection that includes some sample records. Have at least one attribute from each of the machine learning data types.\n",
    "\n",
    "\n",
    "Ans=>\n",
    "\n",
    "Steps for Data Collection\n",
    "\n",
    "1. Identify issues and opportunities for collecting data: Every tool for collecting data has its own pros and cons. Thus, for deciding the best method, it is important to identify issues and opportunities for collecting data according to the method. It might be helpful to engage in a pilot study to review our tools and sample size. \n",
    "2. Setting goals and objectives:  The researcher uses data to address his/her research questions and must design his/her methodology accordingly. Thus, every tool used by the researcher must have certain objectives which could be used for addressing these questions after analysis.\n",
    "3. Planning approach and methods: Researcher would make decisions pertaining to who will be surveyed, how data will be collected, sources and tools for data collection, and duration of the project.\n",
    "4. Collect data:  While planning the data collection, it is important to understand logistical challenges and prepare accordingly. "
   ]
  },
  {
   "cell_type": "markdown",
   "metadata": {},
   "source": [
    "## 4. What are the various causes of machine learning data issues? What are the ramifications?\n",
    "\n",
    "\n",
    "\n",
    "Ans=>\n",
    "\n",
    "The major issue that comes while using machine learning algorithms is the lack of quality as well as quantity of data. Although data plays a vital role in the processing of machine learning algorithms, many data scientists claim that inadequate data, noisy data, and unclean data are extremely exhausting the machine learning algorithms. \n",
    "\n",
    "Ramifications or major issues in machine learning are:\n",
    "\n",
    "1. Five practical issues in machine learning and the business implications Data quality.\n",
    "2. Machine learning systems rely on data.\n",
    "3. The complexity and quality trade-off.\n",
    "4. Sampling bias in data.\n",
    "5. Changing expectations and concept drift.\n",
    "6. Monitoring and maintenance."
   ]
  },
  {
   "cell_type": "markdown",
   "metadata": {},
   "source": [
    "## 5. Demonstrate various approaches to categorical data exploration with appropriate examples.\n",
    "\n",
    "\n",
    "\n",
    "\n",
    "Ans=>\n",
    "\n",
    "Various approaches to categorical data exploration are:\n",
    "\n",
    "1. Unique value count: One of the first things which can be useful during data exploration is to see how many unique values\n",
    "are there in categorical columns. \n",
    "2. Frequency Count: Frequency count is finding how frequent individual values occur in column. \n",
    "3. Variance: Variance gives a good indication how the values are spread. \n",
    "4. Pareto Analysis: Pareto analysis is a creative way of focusing on what is important. Pareto 80–20 rule can be effectively used in data exploration. \n",
    "5. Histogram: Histogram are one of the data scientists favourite data exploration techniques. It gives information on the range of values in which most of the values fall. It also gives information on whether there is any skew in data. \n",
    "6. Correlation Heat-map between all numeric columns: The term correlation refers to a mutual relationship or association between two things. \n",
    "7. Pearson Correlation and Trend between two numeric columns: Once you have visualised correlation heat-map , the next step is to see the correlation trend between two specific numeric columns. \n",
    "8. Outlier overview: Finding something unusual in data is called Outlier detection (also known as anomaly detection). These outliers represent something unusual, rare , anomaly or something exceptional."
   ]
  },
  {
   "cell_type": "markdown",
   "metadata": {},
   "source": [
    "## 6. How would the learning activity be affected if certain variables have missing values? Having said that, what can be done about it?\n",
    "\n",
    "Ans=>\n",
    "\n",
    "Even in a Well-Designed & Controlled study, Missing data occurs in almost all research. Missing data can reduce the statistical power of a study and can produce biased estimates, leading to invalid conclusions.\n",
    "\n",
    "1. Real-world data collection has its own set of problems, It is often very messy which includes missing data, presence of outliers, unstructured manner, etc.\n",
    "2. Before looking for any insights from the data, we have to first perform preprocessing tasks which then only allow us to use that data for further observation and train our machine learning model.\n",
    "3. Missing value in a dataset is a very common phenomenon in the reality.\n",
    "4. Missing value correction is required to reduce bias and to produce powerful suitable models.\n",
    "5. Most of the algorithms can’t handle missing data, thus you need to act in some way to simply not let your code crash. So, let’s begin with the methods to solve the problem.\n",
    "6. Methods for dealing with missing values. The popular methods which are used by the machine learning community to handle the missing value for categorical variables in the dataset are as follows: Delete the observations: If there is a large number of observations in the dataset, where all the classes to be predicted are sufficiently represented in the training data, then try deleting the missing value observations, which would not bring significant change in your feed to your model."
   ]
  },
  {
   "cell_type": "markdown",
   "metadata": {},
   "source": [
    "## 7. Describe the various methods for dealing with missing data values in depth.\n",
    "\n",
    "\n",
    "Ans=>\n",
    "\n",
    " The Various Methods for dealing with missing data values are:\n",
    "\n",
    "1. Delete the observations: If there is a large number of observations in the dataset, where all the classes to be predicted are sufficiently represented in the training data, then try deleting the missing value observations, which would not bring significant change in your feed to your model. For Example Implement this method in a given dataset, we can delete the entire row which contains missing values.\n",
    "2. Replace missing values with the most frequent value: You can always impute them based on Mode in the case of categorical variables, just make sure you don’t have highly skewed class distributions.\n",
    "3. Develop a model to predict missing values: One smart way of doing this could be training a classifier over your columns with missing values as a dependent variable against other features of your data set and trying to impute based on the newly trained classifier."
   ]
  },
  {
   "cell_type": "markdown",
   "metadata": {},
   "source": [
    "## 8. What are the various data pre-processing techniques? Explain dimensionality reduction and function selection in a few words.\n",
    "\n",
    "\n",
    "Ans=>\n",
    "\n",
    "Data Preprocessing can be done in four different ways. \n",
    "1. Data cleaning/cleaning:- Data cleaning methods aim to fill in missing values, smooth out noise while identifying outliers, and fix data discrepancies. Unclean data can confuse data and the model.\n",
    "- Handling the missing value\n",
    "- Noisy data\n",
    "2. Data integration :- It is involved in a data analysis task that combines data from multiple sources into a coherent data store. These sources may include multiple databases. \n",
    "\n",
    "3. Data transformation :- This stage is used to convert the data into a format that can be used in the mining process. This is done in the following ways:\n",
    "-  Normalization:It is done to scale the data values in a specified range (-1.0 to 1.0 or 0.0 to 1.0)\n",
    "- Smoothing: Smoothing works to remove the noise from the data. Such techniques include binning, clustering, and regression.\n",
    "- Aggregation:Aggregation is the process of applying summary or aggregation operations on data.\n",
    "4. Data reduction :- Because data mining is a methodology for dealing with large amounts of data. When dealing with large amounts of data, analysis becomes more difficult. We employ a data reduction technique to get rid of this. Its goal is to improve storage efficiency while lowering data storage and analysis expenses.\n",
    "\n",
    "\n",
    "- Dimensionality Reduction :A huge number of features may be found in most real-world datasets. Consider an image processing problem: there could be hundreds of features, also known as dimensions, to deal with. As the name suggests, dimensionality reduction seeks to minimize the number of features — but not just by selecting a sample of features from the feature set, which is something else entirely — Feature Subset Selection or feature selection.\n",
    "\n",
    "- Function Selection:- It is the process of automatically choosing relevant features for your machine learning model based on the type of problem you are trying to solve. We do this by including or excluding important features without changing them. It helps in cutting down the noise in our data and reducing the size of our input data."
   ]
  },
  {
   "attachments": {
    "download.jpg": {
     "image/jpeg": "[encoded data removed]"
    }
   },
   "cell_type": "markdown",
   "metadata": {},
   "source": [
    "## 9.\n",
    "\n",
    "1. What is the IQR? What criteria are used to assess it?\n",
    "\n",
    "2. Describe the various components of a box plot in detail? When will the lower whisker surpass the upper whisker in length? How can box plots be used to identify outliers?\n",
    "\n",
    "\n",
    "\n",
    "Ans=>\n",
    "\n",
    "1. What is the IQR? What criteria are used to assess it?:- \n",
    "\n",
    "The interquartile range is a measure of where the “middle fifty” is in a data set. Where a range is a measure of where the beginning and end are in a set, an interquartile range is a measure of where the bulk of the values lie. That’s why it’s preferred over many other measures of spread when reporting things like school performance or SAT scores.\n",
    "\n",
    "The interquartile range formula is the first quartile subtracted from the third quartile:\n",
    "\n",
    "IQR = Q3 – Q1.\n",
    "\n",
    "- Q1 is the first quartile of the data, i.e., to say 25% of the data lies between minimum and Q1.\n",
    "- Q3 is the third quartile of the data, i.e., to say 75% of the data lies between minimum and Q3.\n",
    "- The difference between Q3 and Q1 is called the Inter-Quartile Range or IQR.\n",
    "\n",
    "\n",
    "\n",
    "2. Describe the various components of a box plot in detail? When will the lower whisker surpass the upper whisker in length? How can box plots be used to identify outliers?\n",
    "\n",
    "- minimum is the minimum value in the dataset\n",
    "- maximum is the maximum value in the dataset.\n",
    "- So the difference between the two tells us about the range of dataset.\n",
    "- The median is the median (or centre point), also called second quartile, of the data (resulting from the fact that the data is ordered).\n",
    "- Q1 is the first quartile of the data, i.e., to say 25% of the data lies between minimum and Q1.\n",
    "- Q3 is the third quartile of the data, i.e., to say 75%\n",
    "- When the data is left skewed, lower whisker will be longer than upper whisker.\n",
    "- To detect the outliers this method is used, we define a new range, let’s call it decision range, and any data point lying outside this range is considered as outlier and is accordingly dealt with. The range is as given below:\n",
    "- Lower Bound: (Q1 - 1.5 * IQR)Upper Bound: (Q3 + 1.5 * IQR)\n",
    "\n",
    "- The difference between Q3 and Q1 is called the Inter-Quartile Range or IQR.\n",
    "![download.jpg](attachment:download.jpg)"
   ]
  },
  {
   "cell_type": "markdown",
   "metadata": {},
   "source": [
    "## \n",
    "10. Make brief notes on any two of the following:\n",
    "\n",
    "              1. Data collected at regular intervals\n",
    "\n",
    "               2. The gap between the quartiles\n",
    "\n",
    "               3. Use a cross-tab\n",
    "\n",
    "Ans=>\n",
    "\n",
    "1. Data collected at regular intervals:- \n",
    "- Interval data is one of the two types of discrete data.\n",
    "- An example of interval data is the data collected on a thermometer—its gradation or markings are equidistant.\n",
    "- Unlike ordinal data, interval data always take numerical values where the distance between two points on the scale is standardised and equal.\n",
    "\n",
    "2. The gap between the quartiles\n",
    "- Q1 is the first quartile of the data, i.e., to say 25% of the data lies between minimum and Q1.\n",
    "- Q3 is the third quartile of the data, i.e., to say 75% of the data lies between minimum and Q3.\n",
    "- The difference between Q3 and Q1 is called the Inter-Quartile Range or IQR.\n"
   ]
  },
  {
   "cell_type": "markdown",
   "metadata": {},
   "source": [
    "## 11. Make a comparison between:\n",
    "\n",
    "1. Data with nominal and ordinal values\n",
    "\n",
    "2. Histogram and box plot\n",
    "\n",
    "3. The average and median\n",
    "\n",
    "\n",
    "Ans=>\n",
    "\n",
    "3. The average and median:\n",
    "\n",
    "- The mean (informally, the “average“) is found by adding all of the numbers together and dividing by the number of items in the set: 10 + 10 + 20 + 40 + 70 / 5 = 30. The median is found by ordering the set from lowest to highest and finding the exact middle. The median is just the middle number: 20\n",
    "\n",
    "2. Histogram and barplot:\n",
    "\n",
    "- Histograms and box plots are very similar in that they both help to visualize and describe numeric data. Although histograms are better in determining the underlying distribution of the data, box plots allow you to compare multiple data sets better than histograms as they are less detailed and take up less space."
   ]
  },
  {
   "cell_type": "markdown",
   "metadata": {},
   "source": [
    "## ----------------------------------------------------------------------------------------------------------------------------------"
   ]
  }
 ],
 "metadata": {
  "kernelspec": {
   "display_name": "Python 3",
   "language": "python",
   "name": "python3"
  },
  "language_info": {
   "codemirror_mode": {
    "name": "ipython",
    "version": 3
   },
   "file_extension": ".py",
   "mimetype": "text/x-python",
   "name": "python",
   "nbconvert_exporter": "python",
   "pygments_lexer": "ipython3",
   "version": "3.8.10"
  }
 },
 "nbformat": 4,
 "nbformat_minor": 4
}
