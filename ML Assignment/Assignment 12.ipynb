{
 "cells": [
  {
   "cell_type": "markdown",
   "metadata": {},
   "source": [
    "## Assignment 12"
   ]
  },
  {
   "cell_type": "markdown",
   "metadata": {},
   "source": [
    "## 1. What is prior probability? Give an example.\n",
    "\n",
    "\n",
    "\n",
    "Ans=>\n",
    "\n",
    "Prior probability is a probability estimate or belief about an event or parameter before new evidence or data is considered. It represents prior knowledge or beliefs about the event or parameter based on previous experiences, expert opinions, or historical data. \n",
    "\n",
    "An example would be a prior belief about the success rate of a certain medical treatment based on previous studies."
   ]
  },
  {
   "cell_type": "markdown",
   "metadata": {},
   "source": [
    "## 2. What is posterior probability? Give an example.\n",
    "\n",
    "\n",
    "Ans=>\n",
    "\n",
    "Posterior probability is a probability estimate or belief about an event or parameter after considering new evidence or data. It is based on the updated knowledge or beliefs about the event or parameter after taking into account the new information. \n",
    "\n",
    "An example would be the updated belief about the success rate of a certain medical treatment after considering the results of a new clinical trial."
   ]
  },
  {
   "cell_type": "markdown",
   "metadata": {},
   "source": [
    "## 3. What is likelihood probability? Give an example.\n",
    "\n",
    "\n",
    "\n",
    "\n",
    "Ans=>\n",
    "\n",
    "Likelihood probability is the probability of observing a certain set of data given a particular hypothesis or parameter. It is used in Bayesian statistics to update prior probabilities and estimate posterior probabilities. \n",
    "\n",
    "An example would be the probability of observing a certain test result given a particular disease."
   ]
  },
  {
   "cell_type": "markdown",
   "metadata": {},
   "source": [
    "## 4. What is Naïve Bayes classifier? Why is it named so?\n",
    "\n",
    "\n",
    "\n",
    "Ans=>\n",
    "\n",
    "Naive Bayes classifier is a probabilistic machine learning algorithm that is based on Bayes' theorem. It is a simple algorithm that makes the assumption that the features of the data are independent, which is called the \"naive\" assumption. The algorithm uses the probabilities of each feature to classify the data into different classes. It is named \"Naive Bayes\" because of the naive assumption of independence between features."
   ]
  },
  {
   "cell_type": "markdown",
   "metadata": {},
   "source": [
    "## 5. What is optimal Bayes classifier?\n",
    "\n",
    "\n",
    "\n",
    "Ans=>\n",
    "\n",
    "Optimal Bayes classifier is a Bayesian classifier that makes the minimum possible classification error for a given set of data. It is based on Bayes' theorem and takes into account the prior probabilities, likelihood probabilities, and class prior probabilities to make the optimal decision for classification. It is considered the \"best\" Bayesian classifier because it minimizes the classification error and provides the most accurate classifications."
   ]
  },
  {
   "cell_type": "markdown",
   "metadata": {},
   "source": [
    "## 6. Write any two features of Bayesian learning methods.\n",
    "\n",
    "\n",
    "\n",
    "Ans=>\n",
    "\n",
    "Two features of Bayesian learning methods are:\n",
    "1. Incorporation of prior knowledge: Bayesian learning methods allow for the incorporation of prior knowledge or beliefs about an event or parameter into the learning process. This allows for a more informed estimation of probabilities and can improve the accuracy of predictions.\n",
    "2. Probabilistic modeling: Bayesian learning methods use probabilistic models to estimate probabilities and make predictions. This provides a more robust and flexible framework for learning compared to deterministic methods."
   ]
  },
  {
   "cell_type": "markdown",
   "metadata": {},
   "source": [
    "## 7. Define the concept of consistent learners.\n",
    "\n",
    "\n",
    "\n",
    "Ans=>\n",
    "\n",
    "Consistent learners are machine learning algorithms that converge to the true underlying model as the amount of data increases. This means that the predictions made by the algorithm will become more accurate as more data is collected."
   ]
  },
  {
   "cell_type": "markdown",
   "metadata": {},
   "source": [
    "## 8. Write any two strengths of Bayes classifier.\n",
    "\n",
    "\n",
    "Ans=>\n",
    "\n",
    "Two strengths of Bayes classifier are:\n",
    "1. Incorporation of prior knowledge: As mentioned earlier, Bayes classifier allows for the incorporation of prior knowledge or beliefs into the learning process, which can improve the accuracy of predictions.\n",
    "2. Robust to missing data: Bayes classifier can handle missing data in a more effective way compared to other classifiers. This is because it uses the prior probabilities and likelihood probabilities to make predictions, rather than relying solely on the available data."
   ]
  },
  {
   "cell_type": "markdown",
   "metadata": {},
   "source": [
    "## 9. Write any two weaknesses of Bayes classifier.\n",
    "\n",
    "\n",
    "\n",
    "Ans=>\n",
    "\n",
    "Two weaknesses of Bayes classifier are:\n",
    "1. Naive assumption: The naive assumption of independence between features can lead to incorrect predictions in some cases. This is because the features may not be truly independent, and their relationship may affect the prediction.\n",
    "2. Computational complexity: Bayesian learning methods can become computationally intensive as the size of the data increases. This is because they require the calculation of probabilities and integrals, which can become time-consuming for large datasets."
   ]
  },
  {
   "cell_type": "markdown",
   "metadata": {},
   "source": [
    "## 10. Explain how Naïve Bayes classifier is used for\n",
    "\n",
    "        1. Text classification\n",
    "\n",
    "        2. Spam filtering\n",
    "\n",
    "       3. Market sentiment analysis\n",
    "\n",
    "\n",
    "\n",
    "Ans=>\n",
    "\n",
    "1. Text classification:Text classification is a task in natural language processing where texts are categorized into predefined classes or categories based on their content. Examples of text classification include sentiment analysis, spam filtering, and topic categorization.\n",
    "\n",
    "2. Spam filtering:Spam filtering is a specific type of text classification where the goal is to automatically identify and filter out unwanted or irrelevant emails, such as spam, phishing attempts, or advertisements. Spam filtering is usually done using machine learning algorithms, such as Bayesian classifiers, that can learn to distinguish between spam and non-spam messages based on their content and other features.\n",
    "\n",
    "3. Market sentiment analysis:Market sentiment analysis is a technique for evaluating the emotional tone of financial news articles, social media posts, or other types of content to determine the overall market sentiment. This can provide valuable information for traders and investors to help them make informed decisions. Market sentiment analysis is often done using natural language processing and machine learning techniques, such as text classification, to identify and categorize the sentiment of financial news articles or social media posts."
   ]
  },
  {
   "cell_type": "markdown",
   "metadata": {},
   "source": [
    "## ----------------------------------------------------------------------------------------------------------------------------------"
   ]
  }
 ],
 "metadata": {
  "kernelspec": {
   "display_name": "Python 3",
   "language": "python",
   "name": "python3"
  },
  "language_info": {
   "codemirror_mode": {
    "name": "ipython",
    "version": 3
   },
   "file_extension": ".py",
   "mimetype": "text/x-python",
   "name": "python",
   "nbconvert_exporter": "python",
   "pygments_lexer": "ipython3",
   "version": "3.8.10"
  }
 },
 "nbformat": 4,
 "nbformat_minor": 4
}
