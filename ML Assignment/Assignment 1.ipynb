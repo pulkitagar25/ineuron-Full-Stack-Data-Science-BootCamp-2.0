{
 "cells": [
  {
   "cell_type": "markdown",
   "metadata": {},
   "source": [
    "## Assignment 1"
   ]
  },
  {
   "cell_type": "markdown",
   "metadata": {},
   "source": [
    "## 1. What does one mean by the term \"machine learning\"?\n",
    "\n",
    "Ans=>\n",
    "\n",
    "Machine learning is the scientific study of algorithm and stats model that computer systems uses to effectively perform a specific task without using explicit instructions."
   ]
  },
  {
   "cell_type": "markdown",
   "metadata": {},
   "source": [
    "## 2.Can you think of 4 distinct types of issues where it shines?\n",
    "\n",
    "\n",
    "Ans=>\n",
    "\n",
    "The following are some of the issues where Machine Learning can be used:\n",
    "\n",
    "1. Image Recognition: Image recognition is one of the most common applications of machine learning. It is used to identify objects, persons, places, digital images, etc. The popular use case of image recognition and face detection is Automatic friend tagging suggestion.\n",
    "\n",
    "2. Speech Recognition: While using Google, we get an option of Search by voice, it comes under speech recognition, and it's a popular application of Machine Learning. Speech recognition is a process of converting voice instructions into text, and it is also known as Speech to text, or Computer based speech recognition At present, machine learning algorithms are widely used by various applications of speech recognition. Google assistant, Siri, Cortana, and Alexa are using speech recognition technology to follow the voice instructions.\n",
    "\n",
    "3. Traffic prediction: It predicts the traffic conditions such as whether traffic is cleared, slow-moving, or heavily congested with the help of two ways: Real Time location of the vehicle form Google Map app and sensors Average time has taken on past days at the same time.\n",
    "\n",
    "4. Product recommendations: Machine learning is widely used by various e-commerce and entertainment companies such as Amazon, Netflix, etc., for product recommendation to the user."
   ]
  },
  {
   "cell_type": "markdown",
   "metadata": {},
   "source": [
    "## 3.What is a labeled training set, and how does it work?\n",
    "\n",
    "\n",
    "Ans=>\n",
    "\n",
    "We split up the data containing known response variable values into two pieces. The training set is used to train the algorithm, and then we use the trained model on the test set to predict the response variable values that are already known."
   ]
  },
  {
   "cell_type": "markdown",
   "metadata": {},
   "source": [
    "## 4.What are the two most important tasks that are supervised?\n",
    "\n",
    "Ans=>\n",
    "\n",
    "Regression and Classification."
   ]
  },
  {
   "cell_type": "markdown",
   "metadata": {},
   "source": [
    "## 5.Can you think of four examples of unsupervised tasks?\n",
    "\n",
    "Ans=>\n",
    "\n",
    "Four common Unsupervised Tasks included Clustering, Visualization, Dimensionality Reduction, and Association Rule Learning."
   ]
  },
  {
   "cell_type": "markdown",
   "metadata": {},
   "source": [
    "## 6.State the machine learning model that would be best to make a robot walk through various unfamiliar terrains?\n",
    "\n",
    "\n",
    "\n",
    "Ans=>\n",
    "\n",
    "The best Machine Learning algorithm to allow a robot to walk in unknown terrain is Reinforced Learning, where the robot can learn from response of the terrain to optimize itself.\n",
    "\n",
    "Reinforcement learning is a system where an \"agent\" observes the environment, selects and performs actions, then recieves a reward or punishment based on the result of the action. Over time the agent learns by itself what is the most productive strategy."
   ]
  },
  {
   "cell_type": "markdown",
   "metadata": {},
   "source": [
    "## 7.Which algorithm will you use to divide your customers into different groups?\n",
    "\n",
    "\n",
    "\n",
    "Ans=>\n",
    "\n",
    " We would use some sort of clustering algorithm that can find the decision boundaries in the groups automatically. This is an unsupervised approach. However, if we already knew the categories of my customers, then we would choose a supervised approach and go with a classification algorithm."
   ]
  },
  {
   "cell_type": "markdown",
   "metadata": {},
   "source": [
    "## 8.Will you consider the problem of spam detection to be a supervised or unsupervised learning problem?\n",
    "\n",
    "\n",
    "\n",
    "Ans=>Spam detection is a Supervised Machine Learning problem because the labels are known (spam or no spam)"
   ]
  },
  {
   "cell_type": "markdown",
   "metadata": {},
   "source": [
    "## 9.What is the concept of an online learning system?\n",
    "\n",
    "\n",
    "\n",
    "Ans=>\n",
    "\n",
    "An online learning system learns from new data on-the-fly. As a result, the system is trained incrementally either by using one example at a time or using a mini-batch approach. This keeps each learning step cheap and memory efficient."
   ]
  },
  {
   "cell_type": "markdown",
   "metadata": {},
   "source": [
    "## 10.What is out-of-core learning, and how does it differ from core learning?\n",
    "\n",
    "\n",
    "\n",
    "Ans=>\n",
    "\n",
    "Out-of-core learning is used when a dataset is too large to fit into a computer's memory. The algorithm loads part of the data, runs a training step, then repeats the process until it has run on all the data."
   ]
  },
  {
   "cell_type": "markdown",
   "metadata": {},
   "source": [
    "## 11.What kind of learning algorithm makes predictions using a similarity measure?\n",
    "\n",
    "\n",
    "Ans=>\n",
    "\n",
    "Learning algorithm that relies on a similarity measure to make predictions is Instance Based Algorithm."
   ]
  },
  {
   "cell_type": "markdown",
   "metadata": {},
   "source": [
    "## 12.What's the difference between a model parameter and a hyperparameter in a learning algorithm?\n",
    "\n",
    "\n",
    "\n",
    "\n",
    "Ans=>\n",
    "\n",
    "Model parameter determines how a model will predict given a new instance. Model usually has more than one parameter (i.e. slope of a linear model). Hyperparameter is a parameter for the learning algorithm, not of a model."
   ]
  },
  {
   "cell_type": "markdown",
   "metadata": {},
   "source": [
    "## 13.What are the criteria that model-based learning algorithms look for? What is the most popular method they use to achieve success? What method do they use to make predictions?\n",
    "\n",
    "\n",
    "\n",
    "Ans=>\n",
    "\n",
    "The goal for a model-based algorithm is to be able to generalize to new examples. To do this, model based algorithms search for optimal values for the model's parameters, often called theta. This searching, or \"learning\", is what machine learning is all about. Model-based system learn by minimizing a cost function that measures how bad the system is at making predicitons on new data, plus a penalty for model complexity if the model is regularized. To make a prediction, a new instance's features are fed into a hypothesis function which uses the minimized theta found by repeatedly running the cost function."
   ]
  },
  {
   "cell_type": "markdown",
   "metadata": {},
   "source": [
    "## 14.Can you name four of the most important Machine Learning challenges?\n",
    "\n",
    "\n",
    "\n",
    "Ans=>Four main challenges in Machine Learning include the following:\n",
    "\n",
    "- Overfitting the Data (using a model too complicated)\n",
    "- Underfitting the data (using a simple model)\n",
    "- Lacking in Data\n",
    "- Non Representative Data."
   ]
  },
  {
   "cell_type": "markdown",
   "metadata": {},
   "source": [
    "## 15.What happens if the model performs well on the training data but fails to generalize the results to new situations? Can you think of three different options?\n",
    "\n",
    "\n",
    "Ans=>\n",
    "\n",
    "If the model performs poorly to new instances, then it has overfitted on the training data. To solve this, we can do any of the following three:\n",
    "\n",
    "- Get more data\n",
    "- Implement a simpler model\n",
    "- Eliminate outliers or noise from the existing data set."
   ]
  },
  {
   "cell_type": "markdown",
   "metadata": {},
   "source": [
    "## 16.What exactly is a test set, and why would you need one?\n",
    "\n",
    "\n",
    "\n",
    "Ans=>Test set is a set to test your model (fit using training data) to see how it performs.Test set is necessary to determine how good (or bad) a model performs."
   ]
  },
  {
   "cell_type": "markdown",
   "metadata": {},
   "source": [
    "## 17.What is a validation set's purpose?\n",
    "\n",
    "\n",
    "\n",
    "Ans=>Validation set is a set used to compare between different training models."
   ]
  },
  {
   "cell_type": "markdown",
   "metadata": {},
   "source": [
    "## 18.What precisely is the train-dev kit, when will you need it, how do you put it to use?\n",
    "\n",
    "\n",
    "\n",
    "Ans=>Cross-validation is a tool to compare models without needing a separate validation set. It is preferred over validation set because we can save from breaking of part of the training set to create a validation set, as having more data is valuable regardless."
   ]
  },
  {
   "cell_type": "markdown",
   "metadata": {},
   "source": [
    "## 19.What could go wrong if you use the test set to tune hyperparameters?\n",
    "\n",
    "Ans=>If you tune hyperparameters using the test sets, then it may not perform well on the out-of-sample data because the model is tuned just for that specific set."
   ]
  },
  {
   "cell_type": "markdown",
   "metadata": {},
   "source": [
    "## ----------------------------------------------------------------------------------------------------------------------------------"
   ]
  }
 ],
 "metadata": {
  "kernelspec": {
   "display_name": "Python 3",
   "language": "python",
   "name": "python3"
  },
  "language_info": {
   "codemirror_mode": {
    "name": "ipython",
    "version": 3
   },
   "file_extension": ".py",
   "mimetype": "text/x-python",
   "name": "python",
   "nbconvert_exporter": "python",
   "pygments_lexer": "ipython3",
   "version": "3.8.10"
  }
 },
 "nbformat": 4,
 "nbformat_minor": 4
}
