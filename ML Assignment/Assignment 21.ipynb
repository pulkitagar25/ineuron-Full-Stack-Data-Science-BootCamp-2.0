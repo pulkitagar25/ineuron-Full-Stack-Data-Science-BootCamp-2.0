{
 "cells": [
  {
   "cell_type": "markdown",
   "metadata": {},
   "source": [
    "## Assignment 21"
   ]
  },
  {
   "cell_type": "markdown",
   "metadata": {},
   "source": [
    "## 1. What is the estimated depth of a Decision Tree trained (unrestricted) on a one million instance training set?\n",
    "\n",
    "\n",
    "Ans=>\n",
    "\n",
    "The estimated depth of a Decision Tree trained on a one million instance training set depends on several factors, including the size of the features and the quality of the data. However, it is difficult to estimate the exact depth of a Decision Tree without additional information about the training set. In general, Decision Trees can become quite deep if there is a lot of data and features, so it's possible that the depth of a Decision Tree trained on a one million instance training set could be relatively high."
   ]
  },
  {
   "cell_type": "markdown",
   "metadata": {},
   "source": [
    "## 2. Is the Gini impurity of a node usually lower or higher than that of its parent? Is it always lower/greater, or is it usually lower/greater?\n",
    "\n",
    "\n",
    "Ans=>\n",
    "\n",
    "The Gini impurity of a node is usually lower than that of its parent. The Gini impurity is a measure of the probability of misclassifying a randomly chosen instance if it were classified based on the distribution of the classes in that node. When the Decision Tree splits the data into two groups based on the feature values, it is trying to find the split that results in the lowest Gini impurity. Therefore, the Gini impurity of the child nodes is usually lower than that of the parent node."
   ]
  },
  {
   "cell_type": "markdown",
   "metadata": {},
   "source": [
    "## 3. Explain if its a good idea to reduce max depth if a Decision Tree is overfitting the training set?\n",
    "\n",
    "\n",
    "\n",
    "Ans=>\n",
    "\n",
    "Reducing the max depth of a Decision Tree can be a good idea if it is overfitting the training set. Overfitting occurs when the Decision Tree is too complex and is modeling the noise in the training data instead of the underlying patterns. By reducing the max depth, the Decision Tree becomes less complex and is less likely to overfit the data. However, reducing the max depth too much can also result in underfitting, where the model is too simple and does not capture the underlying patterns in the data. Therefore, it is important to find a balance between complexity and accuracy when tuning the parameters of a Decision Tree."
   ]
  },
  {
   "cell_type": "markdown",
   "metadata": {},
   "source": [
    "## 4. Explain if its a  good idea to try scaling the input features if a Decision Tree underfits the training set?\n",
    "\n",
    "\n",
    "Ans=>\n",
    "\n",
    "Scaling the input features is unlikely to help improve the performance of a Decision Tree that underfits the training set. Decision Trees are not affected by the scale of the input features and do not make assumptions about the distribution of the data. Scaling the features might help with other algorithms, such as linear regression or support vector machines, but it will not improve the performance of a Decision Tree that is underfitting the training set."
   ]
  },
  {
   "cell_type": "markdown",
   "metadata": {},
   "source": [
    "## 5. How much time will it take to train another Decision Tree on a training set of 10 million instances if it takes an hour to train a Decision Tree on a training set with 1 million instances?\n",
    "\n",
    "\n",
    "Ans=>\n",
    "\n",
    "The amount of time it would take to train another Decision Tree on a training set of 10 million instances is difficult to estimate without more information about the system and algorithms being used. In general, the time to train a machine learning model scales with the size of the training set, so it would likely take much longer to train a Decision Tree on a training set of 10 million instances than it would on a training set of 1 million instances. However, the exact amount of time will depend on the computational resources available and the specific implementation and parameters used for the Decision Tree algorithm."
   ]
  },
  {
   "cell_type": "markdown",
   "metadata": {},
   "source": [
    "## 6. Will setting presort=True speed up training if your training set has 100,000 instances?\n",
    "\n",
    "\n",
    "\n",
    "\n",
    "Ans=>\n",
    "\n",
    "The presort parameter in scikit-learn's DecisionTreeRegressor and DecisionTreeClassifier controls whether the algorithm will sort the data before training. If presort=True, the data will be sorted, which can speed up training, especially for large datasets, as it allows the algorithm to quickly identify the best split at each node.\n",
    "\n",
    "In the case of a training set with 100,000 instances, setting presort=True may slightly improve the training time, but the effect will likely be small. The exact impact of presort on the training time will depend on the complexity of the data and the specific implementation and parameters used for the Decision Tree algorithm.\n",
    "\n",
    "In general, the decision to use presort=True or not will depend on the specific use case and the trade-off between increased training time and improved performance. If training time is not a concern, presort=False is a reasonable default choice. However, if training time is a concern, setting presort=True may be a good option to consider."
   ]
  },
  {
   "cell_type": "markdown",
   "metadata": {},
   "source": [
    "## 7. Follow these steps to train and fine-tune a Decision Tree for the moons dataset:\n",
    "\n",
    "a. To build a moons dataset, use make moons(n samples=10000, noise=0.4).\n",
    "\n",
    "b. Divide the dataset into a training and a test collection with train test split().\n",
    "\n",
    "c. To find good hyperparameters values for a DecisionTreeClassifier, use grid search with cross-validation (with the GridSearchCV class). Try different values for max leaf nodes.\n",
    "\n",
    "d. Use these hyperparameters to train the model on the entire training set, and then assess its output on the test set. You can achieve an accuracy of 85 to 87 percent.\n",
    "\n",
    "\n",
    "\n",
    "Ans=>\n",
    "\n"
   ]
  },
  {
   "cell_type": "markdown",
   "metadata": {},
   "source": [
    "## 8. Follow these steps to grow a forest:\n",
    "\n",
    "         a. Using the same method as before, create 1,000 subsets of the training set, each containing 100 instances chosen at random. You can do this with Scikit-ShuffleSplit Learn's class.\n",
    "\n",
    "          b. Using the best hyperparameter values found in the previous exercise, train one Decision Tree on each subset. On the test collection, evaluate these 1,000 Decision Trees. These Decision        Trees would likely perform worse than the first Decision Tree, achieving only around 80% accuracy, since they were trained on smaller sets.\n",
    "\n",
    "         c. Now the magic begins. Create 1,000 Decision Tree predictions for each test set case, and keep only the most common prediction (you can do this with SciPy's mode() function). Over the test collection, this method gives you majority-vote predictions.\n",
    "\n",
    "         d. On the test range, evaluate these predictions: you should achieve a slightly higher accuracy than the first model (approx 0.5 to 1.5 percent higher). You've successfully learned a Random Forest classifier!\n",
    "\n",
    "Ans=>\n",
    "\n",
    "1. \n",
    "2. \n",
    "3. \n",
    "4. "
   ]
  },
  {
   "cell_type": "markdown",
   "metadata": {},
   "source": [
    "## ----------------------------------------------------------------------------------------------------------------------------------"
   ]
  }
 ],
 "metadata": {
  "kernelspec": {
   "display_name": "Python 3",
   "language": "python",
   "name": "python3"
  },
  "language_info": {
   "codemirror_mode": {
    "name": "ipython",
    "version": 3
   },
   "file_extension": ".py",
   "mimetype": "text/x-python",
   "name": "python",
   "nbconvert_exporter": "python",
   "pygments_lexer": "ipython3",
   "version": "3.8.10"
  }
 },
 "nbformat": 4,
 "nbformat_minor": 4
}
