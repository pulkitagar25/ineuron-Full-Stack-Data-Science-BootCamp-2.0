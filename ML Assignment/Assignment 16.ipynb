{
 "cells": [
  {
   "cell_type": "markdown",
   "metadata": {},
   "source": [
    "## Assignment 16"
   ]
  },
  {
   "cell_type": "markdown",
   "metadata": {},
   "source": [
    "## 1. In a linear equation, what is the difference between a dependent variable and an independent variable?\n",
    "\n",
    "\n",
    "Ans=>\n",
    "\n",
    "In a linear equation, the dependent variable is the variable being predicted or explained, while the independent variable is the variable that is used to make predictions or explanations."
   ]
  },
  {
   "cell_type": "markdown",
   "metadata": {},
   "source": [
    "## 2. What is the concept of simple linear regression? Give a specific example.\n",
    "\n",
    "\n",
    "Ans=>\n",
    "\n",
    "Simple linear regression is a statistical method used to determine the relationship between one independent variable and one dependent variable. The aim is to find the line of best fit (a straight line) that represents the relationship between the two variables. For example, if you wanted to predict the weight of a person based on their height, the height would be the independent variable and the weight would be the dependent variable."
   ]
  },
  {
   "cell_type": "markdown",
   "metadata": {},
   "source": [
    "## 3. In a linear regression, define the slope.\n",
    "\n",
    "\n",
    "\n",
    "Ans=>\n",
    "\n",
    "In a linear regression, the slope represents the change in the dependent variable (y) corresponding to a one unit change in the independent variable (x). It gives the direction of the relationship between the two variables, whether positive or negative, and the strength of the relationship, whether weak or strong."
   ]
  },
  {
   "cell_type": "markdown",
   "metadata": {},
   "source": [
    "## 4. Determine the graph's slope, where the lower point on the line is represented as (3, 2) and the higher point is represented as (2, 2).\n",
    "\n",
    "\n",
    "\n",
    "Ans=>\n",
    "\n",
    "The slope of the graph is undefined because the two points are identical and have the same coordinates. There is no change in y for any change in x."
   ]
  },
  {
   "cell_type": "markdown",
   "metadata": {},
   "source": [
    "## 5. In linear regression, what are the conditions for a positive slope?\n",
    "\n",
    "Ans=>\n",
    "\n",
    "In linear regression, a positive slope indicates that an increase in the independent variable is associated with an increase in the dependent variable. A negative slope indicates that an increase in the independent variable is associated with a decrease in the dependent variable."
   ]
  },
  {
   "cell_type": "markdown",
   "metadata": {},
   "source": [
    "## 6. In linear regression, what are the conditions for a negative slope?\n",
    "\n",
    "\n",
    "\n",
    "Ans=>\n",
    "\n",
    "A negative slope in linear regression indicates that as the value of the independent variable increases, the value of the dependent variable decreases."
   ]
  },
  {
   "cell_type": "markdown",
   "metadata": {},
   "source": [
    "## 7. What is multiple linear regression and how does it work?\n",
    "\n",
    "\n",
    "\n",
    "Ans=>\n",
    "\n",
    "Multiple linear regression is a statistical technique used to model the relationship between multiple independent variables and a dependent variable. In this model, there can be more than one predictor (independent) variable."
   ]
  },
  {
   "cell_type": "markdown",
   "metadata": {},
   "source": [
    "## 8. In multiple linear regression, define the number of squares due to error.\n",
    "\n",
    "\n",
    "\n",
    "Ans=>\n",
    "\n",
    "The number of squares due to error in multiple linear regression refers to the residual sum of squares (RSS), which measures the variance between the actual and predicted values of the dependent variable."
   ]
  },
  {
   "cell_type": "markdown",
   "metadata": {},
   "source": [
    "## 9. In multiple linear regression, define the number of squares due to regression.\n",
    "\n",
    "\n",
    "\n",
    "Ans=>\n",
    "\n",
    "The number of squares due to regression in multiple linear regression refers to the explained sum of squares (ESS), which measures the variance explained by the predictor variables in the model."
   ]
  },
  {
   "cell_type": "markdown",
   "metadata": {},
   "source": [
    "## 10. In a regression equation, what is multicollinearity?\n",
    "\n",
    "Ans=>\n",
    "\n",
    "Multicollinearity is a phenomenon in regression analysis where two or more predictor variables are highly correlated with each other, making it difficult to determine the individual effect of each predictor on the dependent variable. This can result in unstable and misleading regression coefficients, as well as difficulty in interpreting the regression results.\n",
    "\n",
    "\n",
    "\n"
   ]
  },
  {
   "cell_type": "markdown",
   "metadata": {},
   "source": [
    "## 11. What is heteroskedasticity, and what does it mean?\n",
    "\n",
    "\n",
    "\n",
    "Ans=>\n",
    "\n",
    "Heteroskedasticity refers to a condition in which the variance of the errors in a regression model is not constant across the values of the independent variables. This can lead to incorrect standard error estimates, making it difficult to make valid statistical inferences about the model's coefficients."
   ]
  },
  {
   "cell_type": "markdown",
   "metadata": {},
   "source": [
    "## 12. Describe the concept of ridge regression.\n",
    "\n",
    "\n",
    "\n",
    "Ans=>\n",
    "\n",
    "Ridge regression is a type of regression analysis that is used to address the problem of multicollinearity in linear regression. It works by adding a penalty term to the regression equation that discourages large coefficient values, reducing the impact of multicollinearity."
   ]
  },
  {
   "cell_type": "markdown",
   "metadata": {},
   "source": [
    "## 13. Describe the concept of lasso regression.\n",
    "\n",
    "\n",
    "\n",
    "Ans=>\n",
    "\n",
    "Lasso regression is another type of regression analysis that addresses the problem of multicollinearity. It works by adding a penalty term to the regression equation that encourages the selection of a subset of independent variables and shrinking the coefficients of unimportant variables towards zero."
   ]
  },
  {
   "cell_type": "markdown",
   "metadata": {},
   "source": [
    "## 14. What is polynomial regression and how does it work?\n",
    "\n",
    "\n",
    "Ans=>\n",
    "\n",
    "Polynomial regression is a type of regression analysis that models the relationship between the independent variable and the dependent variable as an nth degree polynomial. This type of regression is useful for modeling non-linear relationships between the independent and dependent variables."
   ]
  },
  {
   "cell_type": "markdown",
   "metadata": {},
   "source": [
    "## 15. Describe the basis function.\n",
    "\n",
    "\n",
    "\n",
    "\n",
    "Ans=>\n",
    "\n",
    "A basis function is a mathematical function used in regression analysis to transform the independent variables into a new set of variables that are easier to model. These transformed variables are used to fit the regression model, allowing for more flexible relationships between the independent and dependent variables."
   ]
  },
  {
   "cell_type": "markdown",
   "metadata": {},
   "source": [
    "## 16. Describe how logistic regression works.\n",
    "\n",
    "Ans=>\n",
    "\n",
    "Logistic regression is a statistical method used to model the relationship between a dependent binary variable and one or more independent variables. It works by transforming the dependent variable into a probability of one of two possible outcomes and then fitting a regression model to predict the probability based on the values of the independent variables. The coefficients of the regression equation indicate the impact of each independent variable on the probability of a particular outcome."
   ]
  },
  {
   "cell_type": "markdown",
   "metadata": {},
   "source": [
    "## ----------------------------------------------------------------------------------------------------------------------------------"
   ]
  }
 ],
 "metadata": {
  "kernelspec": {
   "display_name": "Python 3",
   "language": "python",
   "name": "python3"
  },
  "language_info": {
   "codemirror_mode": {
    "name": "ipython",
    "version": 3
   },
   "file_extension": ".py",
   "mimetype": "text/x-python",
   "name": "python",
   "nbconvert_exporter": "python",
   "pygments_lexer": "ipython3",
   "version": "3.8.10"
  }
 },
 "nbformat": 4,
 "nbformat_minor": 4
}
