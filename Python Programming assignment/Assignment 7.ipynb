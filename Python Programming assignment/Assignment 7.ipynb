{
 "cells": [
  {
   "cell_type": "markdown",
   "metadata": {},
   "source": [
    "## Assignment 7"
   ]
  },
  {
   "cell_type": "markdown",
   "metadata": {},
   "source": [
    "## 1.\tWrite a Python Program to find sum of array?\n",
    "\n",
    "\n",
    "Ans=>\n",
    "\n"
   ]
  },
  {
   "cell_type": "code",
   "execution_count": 1,
   "metadata": {},
   "outputs": [
    {
     "name": "stdout",
     "output_type": "stream",
     "text": [
      "Enter the array elements separated by space: 4 6 7 1\n",
      "The sum of the array [4, 6, 7, 1] is 18\n"
     ]
    }
   ],
   "source": [
    "arr = [int(x) for x in input(\"Enter the array elements separated by space: \").split()]\n",
    "array_sum = sum(arr)\n",
    "print(f\"The sum of the array {arr} is {array_sum}\")"
   ]
  },
  {
   "cell_type": "markdown",
   "metadata": {},
   "source": [
    "## 2.\tWrite a Python Program to find largest element in an array?\n",
    "\n",
    "\n",
    "Ans=>\n",
    "\n"
   ]
  },
  {
   "cell_type": "code",
   "execution_count": 2,
   "metadata": {},
   "outputs": [
    {
     "name": "stdout",
     "output_type": "stream",
     "text": [
      "Enter the array elements separated by space: 4 6 7 1\n",
      "The largest element in the array [4, 6, 7, 1] is 7\n"
     ]
    }
   ],
   "source": [
    "arr = [int(x) for x in input(\"Enter the array elements separated by space: \").split()]\n",
    "largest = arr[0]\n",
    "\n",
    "for i in range(1, len(arr)):\n",
    "    if arr[i] > largest:\n",
    "        largest = arr[i]\n",
    "\n",
    "print(f\"The largest element in the array {arr} is {largest}\")"
   ]
  },
  {
   "cell_type": "markdown",
   "metadata": {},
   "source": [
    "## 3.\tWrite a Python Program for array rotation?\n",
    "\n",
    "\n",
    "Ans=>\n",
    "\n"
   ]
  },
  {
   "cell_type": "code",
   "execution_count": 3,
   "metadata": {},
   "outputs": [
    {
     "name": "stdout",
     "output_type": "stream",
     "text": [
      "Enter the array elements separated by space: 4 6 7 1\n",
      "Enter the number of rotations: 6\n",
      "The array [7, 1, 4, 6] after 6 rotations\n"
     ]
    }
   ],
   "source": [
    "arr = [int(x) for x in input(\"Enter the array elements separated by space: \").split()]\n",
    "n = len(arr)\n",
    "k = int(input(\"Enter the number of rotations: \"))\n",
    "\n",
    "# Shift the last k elements to the beginning of the array\n",
    "for i in range(k):\n",
    "    temp = arr[-1]\n",
    "    for j in range(n-1, 0, -1):\n",
    "        arr[j] = arr[j-1]\n",
    "    arr[0] = temp\n",
    "\n",
    "print(f\"The array {arr} after {k} rotations\")"
   ]
  },
  {
   "cell_type": "markdown",
   "metadata": {},
   "source": [
    "## 4.\tWrite a Python Program to Split the array and add the first part to the end?\n",
    "\n",
    "Ans=>\n",
    "\n"
   ]
  },
  {
   "cell_type": "code",
   "execution_count": 4,
   "metadata": {},
   "outputs": [
    {
     "name": "stdout",
     "output_type": "stream",
     "text": [
      "Enter the array elements separated by space: 4 6 7 1\n",
      "Enter the index to split the array: 2\n",
      "The array [7, 1, 4, 6] after splitting and adding the first part to the end\n"
     ]
    }
   ],
   "source": [
    "arr = [int(x) for x in input(\"Enter the array elements separated by space: \").split()]\n",
    "n = len(arr)\n",
    "k = int(input(\"Enter the index to split the array: \"))\n",
    "\n",
    "# Split the array and add the first part to the end\n",
    "arr = arr[k:] + arr[:k]\n",
    "\n",
    "print(f\"The array {arr} after splitting and adding the first part to the end\")\n"
   ]
  },
  {
   "cell_type": "markdown",
   "metadata": {},
   "source": [
    "## 5.\tWrite a Python Program to check if given array is Monotonic?\n",
    "\n",
    "\n",
    "\n",
    "Ans=>\n",
    "\n"
   ]
  },
  {
   "cell_type": "code",
   "execution_count": 5,
   "metadata": {},
   "outputs": [
    {
     "name": "stdout",
     "output_type": "stream",
     "text": [
      "Enter the array elements separated by space: 4 6 7 1\n",
      "The array [4, 6, 7, 1] is not monotonic\n"
     ]
    }
   ],
   "source": [
    "arr = [int(x) for x in input(\"Enter the array elements separated by space: \").split()]\n",
    "\n",
    "# Check if the array is monotonic\n",
    "is_monotonic = all(arr[i] <= arr[i+1] for i in range(len(arr)-1)) or \\\n",
    "              all(arr[i] >= arr[i+1] for i in range(len(arr)-1))\n",
    "\n",
    "if is_monotonic:\n",
    "    print(f\"The array {arr} is monotonic\")\n",
    "else:\n",
    "    print(f\"The array {arr} is not monotonic\")"
   ]
  },
  {
   "cell_type": "markdown",
   "metadata": {},
   "source": [
    "## ----------------------------------------------------------------------------------------------------------------------------------"
   ]
  }
 ],
 "metadata": {
  "kernelspec": {
   "display_name": "Python 3",
   "language": "python",
   "name": "python3"
  },
  "language_info": {
   "codemirror_mode": {
    "name": "ipython",
    "version": 3
   },
   "file_extension": ".py",
   "mimetype": "text/x-python",
   "name": "python",
   "nbconvert_exporter": "python",
   "pygments_lexer": "ipython3",
   "version": "3.8.10"
  }
 },
 "nbformat": 4,
 "nbformat_minor": 4
}
