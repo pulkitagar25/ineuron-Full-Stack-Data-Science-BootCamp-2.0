{
 "cells": [
  {
   "cell_type": "markdown",
   "metadata": {},
   "source": [
    "## Assignment 9"
   ]
  },
  {
   "cell_type": "markdown",
   "metadata": {},
   "source": [
    "## 1.\tWrite a Python program to check if the given number is a Disarium Number?\n",
    "\n",
    "\n",
    "Ans=>\n",
    "\n"
   ]
  },
  {
   "cell_type": "code",
   "execution_count": 1,
   "metadata": {},
   "outputs": [
    {
     "name": "stdout",
     "output_type": "stream",
     "text": [
      "175 is a Disarium Number\n"
     ]
    }
   ],
   "source": [
    "def is_disarium_number(num):\n",
    "    # convert the number to a string to access individual digits\n",
    "    num_str = str(num)\n",
    "    \n",
    "    # calculate the sum of the digits raised to their respective positions\n",
    "    sum_of_digits = 0\n",
    "    for i, digit in enumerate(num_str, start=1):\n",
    "        sum_of_digits += int(digit)**i\n",
    "    \n",
    "    # check if the sum of the digits is equal to the original number\n",
    "    if sum_of_digits == num:\n",
    "        return True\n",
    "    else:\n",
    "        return False\n",
    "\n",
    "# example usage\n",
    "num = 175\n",
    "if is_disarium_number(num):\n",
    "    print(num, \"is a Disarium Number\")\n",
    "else:\n",
    "    print(num, \"is not a Disarium Number\")\n",
    "\n"
   ]
  },
  {
   "cell_type": "markdown",
   "metadata": {},
   "source": [
    "## 2.\tWrite a Python program to print all disarium numbers between 1 to 100?\n",
    "\n",
    "\n",
    "Ans=>\n",
    "\n"
   ]
  },
  {
   "cell_type": "code",
   "execution_count": 2,
   "metadata": {},
   "outputs": [
    {
     "name": "stdout",
     "output_type": "stream",
     "text": [
      "1\n",
      "2\n",
      "3\n",
      "4\n",
      "5\n",
      "6\n",
      "7\n",
      "8\n",
      "9\n",
      "89\n"
     ]
    }
   ],
   "source": [
    "def is_disarium_number(num):\n",
    "    # convert the number to a string to access individual digits\n",
    "    num_str = str(num)\n",
    "    \n",
    "    # calculate the sum of the digits raised to their respective positions\n",
    "    sum_of_digits = 0\n",
    "    for i, digit in enumerate(num_str, start=1):\n",
    "        sum_of_digits += int(digit)**i\n",
    "    \n",
    "    # check if the sum of the digits is equal to the original number\n",
    "    if sum_of_digits == num:\n",
    "        return True\n",
    "    else:\n",
    "        return False\n",
    "\n",
    "# find and print all Disarium Numbers between 1 to 100\n",
    "for num in range(1, 101):\n",
    "    if is_disarium_number(num):\n",
    "        print(num)\n"
   ]
  },
  {
   "cell_type": "markdown",
   "metadata": {},
   "source": [
    "## 3.\tWrite a Python program to check if the given number is Happy Number?\n",
    "\n",
    "\n",
    "Ans=>\n",
    "\n"
   ]
  },
  {
   "cell_type": "code",
   "execution_count": 3,
   "metadata": {},
   "outputs": [
    {
     "name": "stdout",
     "output_type": "stream",
     "text": [
      "19 is a Happy Number\n"
     ]
    }
   ],
   "source": [
    "def is_happy_number(num):\n",
    "    # initialize a set to store previously seen sums of squares of digits\n",
    "    seen_sums = set()\n",
    "    \n",
    "    # loop until we reach 1 (happy number) or a previously seen sum of squares of digits (unhappy number)\n",
    "    while num not in seen_sums and num != 1:\n",
    "        seen_sums.add(num)\n",
    "        num_str = str(num)\n",
    "        num = sum(int(digit)**2 for digit in num_str)\n",
    "    \n",
    "    # check if the number is happy (equal to 1)\n",
    "    if num == 1:\n",
    "        return True\n",
    "    else:\n",
    "        return False\n",
    "\n",
    "# example usage\n",
    "num = 19\n",
    "if is_happy_number(num):\n",
    "    print(num, \"is a Happy Number\")\n",
    "else:\n",
    "    print(num, \"is not a Happy Number\")\n",
    "# Output: \"19 is a Happy Number\"\n"
   ]
  },
  {
   "cell_type": "markdown",
   "metadata": {},
   "source": [
    "## 4.\tWrite a Python program to print all happy numbers between 1 and 100?\n",
    "\n",
    "\n",
    "Ans=>\n",
    "\n"
   ]
  },
  {
   "cell_type": "code",
   "execution_count": 4,
   "metadata": {},
   "outputs": [
    {
     "name": "stdout",
     "output_type": "stream",
     "text": [
      "1\n",
      "7\n",
      "10\n",
      "13\n",
      "19\n",
      "23\n",
      "28\n",
      "31\n",
      "32\n",
      "44\n",
      "49\n",
      "68\n",
      "70\n",
      "79\n",
      "82\n",
      "86\n",
      "91\n",
      "94\n",
      "97\n",
      "100\n"
     ]
    }
   ],
   "source": [
    "def is_happy_number(num):\n",
    "    # initialize a set to store previously seen sums of squares of digits\n",
    "    seen_sums = set()\n",
    "    \n",
    "    # loop until we reach 1 (happy number) or a previously seen sum of squares of digits (unhappy number)\n",
    "    while num not in seen_sums and num != 1:\n",
    "        seen_sums.add(num)\n",
    "        num_str = str(num)\n",
    "        num = sum(int(digit)**2 for digit in num_str)\n",
    "    \n",
    "    # check if the number is happy (equal to 1)\n",
    "    if num == 1:\n",
    "        return True\n",
    "    else:\n",
    "        return False\n",
    "\n",
    "# find and print all Happy Numbers between 1 to 100\n",
    "for num in range(1, 101):\n",
    "    if is_happy_number(num):\n",
    "        print(num)\n"
   ]
  },
  {
   "cell_type": "markdown",
   "metadata": {},
   "source": [
    "## 5.\tWrite a Python program to determine whether the given number is a Harshad Number?\n",
    "\n",
    "\n",
    "Ans=>\n",
    "\n"
   ]
  },
  {
   "cell_type": "code",
   "execution_count": 5,
   "metadata": {},
   "outputs": [
    {
     "name": "stdout",
     "output_type": "stream",
     "text": [
      "18 is a Harshad Number\n"
     ]
    }
   ],
   "source": [
    "def is_harshad_number(num):\n",
    "    # calculate the sum of the digits of the number\n",
    "    sum_of_digits = sum(int(digit) for digit in str(num))\n",
    "    \n",
    "    # check if the number is divisible by the sum of its digits\n",
    "    if num % sum_of_digits == 0:\n",
    "        return True\n",
    "    else:\n",
    "        return False\n",
    "\n",
    "# example usage\n",
    "num = 18\n",
    "if is_harshad_number(num):\n",
    "    print(num, \"is a Harshad Number\")\n",
    "else:\n",
    "    print(num, \"is not a Harshad Number\")\n",
    "# Output: \"18 is a Harshad Number\"\n"
   ]
  },
  {
   "cell_type": "markdown",
   "metadata": {},
   "source": [
    "## 6.\tWrite a Python program to print all pronic numbers between 1 and 100?\n",
    "\n",
    "\n",
    "Ans=>\n",
    "\n"
   ]
  },
  {
   "cell_type": "code",
   "execution_count": 6,
   "metadata": {},
   "outputs": [
    {
     "name": "stdout",
     "output_type": "stream",
     "text": [
      "2\n",
      "6\n",
      "12\n",
      "20\n",
      "30\n",
      "42\n",
      "56\n",
      "72\n",
      "90\n"
     ]
    }
   ],
   "source": [
    "def is_pronic_number(num):\n",
    "    # loop through all numbers up to the square root of the given number\n",
    "    for i in range(int(num**0.5) + 1):\n",
    "        # check if the product of i and (i + 1) is equal to the given number\n",
    "        if i * (i + 1) == num:\n",
    "            return True\n",
    "    return False\n",
    "\n",
    "# find and print all pronic numbers between 1 to 100\n",
    "for num in range(1, 101):\n",
    "    if is_pronic_number(num):\n",
    "        print(num)\n"
   ]
  },
  {
   "cell_type": "markdown",
   "metadata": {},
   "source": [
    "## ----------------------------------------------------------------------------------------------------------------------------------"
   ]
  }
 ],
 "metadata": {
  "kernelspec": {
   "display_name": "Python 3",
   "language": "python",
   "name": "python3"
  },
  "language_info": {
   "codemirror_mode": {
    "name": "ipython",
    "version": 3
   },
   "file_extension": ".py",
   "mimetype": "text/x-python",
   "name": "python",
   "nbconvert_exporter": "python",
   "pygments_lexer": "ipython3",
   "version": "3.8.10"
  }
 },
 "nbformat": 4,
 "nbformat_minor": 4
}
