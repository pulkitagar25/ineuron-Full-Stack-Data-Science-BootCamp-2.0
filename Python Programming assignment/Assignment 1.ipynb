{
 "cells": [
  {
   "cell_type": "markdown",
   "metadata": {},
   "source": [
    "## Assignment 1"
   ]
  },
  {
   "cell_type": "markdown",
   "metadata": {},
   "source": [
    "## 1.\tWrite a Python program to print \"Hello Python\"?\n",
    "\n",
    "Ans=>\n",
    "\n"
   ]
  },
  {
   "cell_type": "code",
   "execution_count": 1,
   "metadata": {},
   "outputs": [
    {
     "name": "stdout",
     "output_type": "stream",
     "text": [
      "Hello Python\n"
     ]
    }
   ],
   "source": [
    "print(\"Hello Python\")"
   ]
  },
  {
   "cell_type": "markdown",
   "metadata": {},
   "source": [
    "## 2.\tWrite a Python program to do arithmetical operations addition and division.?\n",
    "\n",
    "\n",
    "\n",
    "Ans=>\n",
    "\n"
   ]
  },
  {
   "cell_type": "code",
   "execution_count": 2,
   "metadata": {},
   "outputs": [
    {
     "name": "stdout",
     "output_type": "stream",
     "text": [
      "Enter x:- 5\n",
      "Enter y:- 15\n",
      "Addition of two no  20\n",
      "Division of two no  0.3333333333333333\n"
     ]
    }
   ],
   "source": [
    "x=int(input(\"Enter x:- \"))\n",
    "y=int(input(\"Enter y:- \"))\n",
    "\n",
    "add= x+y\n",
    "div=x/y\n",
    "\n",
    "print(\"Addition of two no \",add)\n",
    "print(\"Division of two no \",div)"
   ]
  },
  {
   "cell_type": "markdown",
   "metadata": {},
   "source": [
    "## 3.\tWrite a Python program to find the area of a triangle?\n",
    "\n",
    "\n",
    "Ans=>\n",
    "\n"
   ]
  },
  {
   "cell_type": "code",
   "execution_count": 3,
   "metadata": {},
   "outputs": [
    {
     "name": "stdout",
     "output_type": "stream",
     "text": [
      "Base: 5\n",
      "Height: 8\n",
      "Area of a triangle:  20.0\n"
     ]
    }
   ],
   "source": [
    "base=int(input(\"Base: \"))\n",
    "height=int(input(\"Height: \"))\n",
    "\n",
    "area=0.5*base*height\n",
    "\n",
    "print(\"Area of a triangle: \",area)"
   ]
  },
  {
   "cell_type": "markdown",
   "metadata": {},
   "source": [
    "## 4.\tWrite a Python program to swap two variables?\n",
    "\n",
    "\n",
    "Ans=>\n",
    "\n"
   ]
  },
  {
   "cell_type": "code",
   "execution_count": 19,
   "metadata": {
    "scrolled": true
   },
   "outputs": [
    {
     "name": "stdout",
     "output_type": "stream",
     "text": [
      "Before swapping:\n",
      "a=6 and b=8\n",
      "After swapping:\n",
      "a=8 and b=6\n"
     ]
    }
   ],
   "source": [
    "a=6\n",
    "b=8\n",
    "print(\"Before swapping:\\na={} and b={}\".format(a,b))\n",
    "\n",
    "temp=0\n",
    "temp=a\n",
    "a=b\n",
    "b=temp\n",
    "print(\"After swapping:\\na={} and b={}\".format(a,b))\n"
   ]
  },
  {
   "cell_type": "markdown",
   "metadata": {},
   "source": [
    "## 5.\tWrite a Python program to generate a random number?\n",
    "\n",
    "\n",
    "Ans=>\n",
    "\n"
   ]
  },
  {
   "cell_type": "code",
   "execution_count": 20,
   "metadata": {},
   "outputs": [
    {
     "name": "stdout",
     "output_type": "stream",
     "text": [
      "2\n",
      "0.36724115655126743\n"
     ]
    }
   ],
   "source": [
    "import random\n",
    "x=random.randint(0,90)\n",
    "print(x)\n",
    "print(random.random())"
   ]
  },
  {
   "cell_type": "markdown",
   "metadata": {},
   "source": [
    "## ----------------------------------------------------------------------------------------------------------------------------------"
   ]
  }
 ],
 "metadata": {
  "kernelspec": {
   "display_name": "Python 3",
   "language": "python",
   "name": "python3"
  },
  "language_info": {
   "codemirror_mode": {
    "name": "ipython",
    "version": 3
   },
   "file_extension": ".py",
   "mimetype": "text/x-python",
   "name": "python",
   "nbconvert_exporter": "python",
   "pygments_lexer": "ipython3",
   "version": "3.8.10"
  }
 },
 "nbformat": 4,
 "nbformat_minor": 4
}
