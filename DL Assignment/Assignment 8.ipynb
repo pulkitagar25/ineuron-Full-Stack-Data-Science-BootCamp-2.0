{
 "cells": [
  {
   "cell_type": "markdown",
   "metadata": {},
   "source": [
    "## Assignment 8"
   ]
  },
  {
   "cell_type": "markdown",
   "metadata": {},
   "source": [
    "## 1.\tWhat are the pros and cons of using a stateful RNN versus a stateless RNN?\n",
    "\n",
    "\n",
    "Ans=>\n",
    "\n",
    "The main advantage of using a stateful RNN is that it can process very long sequences, because it does not need to reset its hidden state after each batch. This makes training more efficient, and it can improve the model's accuracy when long-term dependencies are important. The main disadvantage is that you need to ensure that the order of the training data is preserved across epochs, and that you avoid shuffling the data. Additionally, you may need to pad the sequences to make them fit in the same batch, which can reduce the efficiency of the training.\n",
    "\n",
    "In contrast, the main advantage of using a stateless RNN is that it is simpler to implement and train. It can also process sequences of variable length, and can benefit from shuffling the training data across epochs. The main disadvantage is that it may not be able to capture long-term dependencies as effectively as a stateful RNN, especially when the sequences are very long."
   ]
  },
  {
   "cell_type": "markdown",
   "metadata": {},
   "source": [
    "## 2.\tWhy do people use Encoder–Decoder RNNs rather than plain sequence-to-sequence RNNs for automatic translation?\n",
    "\n",
    "\n",
    "Ans=>\n",
    "\n",
    "Encoder-Decoder RNNs are a type of sequence-to-sequence model that can translate sequences of variable length. They consist of two RNNs, one that encodes the input sequence into a fixed-length vector, and another that decodes the vector into the output sequence. The advantage of using an encoder-decoder RNN over a plain sequence-to-sequence RNN is that it can handle variable-length input sequences, which is often necessary in natural language processing. Additionally, the fixed-length encoding can help the model to capture the most relevant information from the input sequence and avoid overfitting to noise or irrelevant details."
   ]
  },
  {
   "cell_type": "markdown",
   "metadata": {},
   "source": [
    "## 3.\tHow can you deal with variable-length input sequences? What about variable-length output sequences?\n",
    "\n",
    "\n",
    "Ans=>\n",
    "\n",
    "To deal with variable-length input sequences, you can pad the sequences to a fixed length, truncate them to a maximum length, or use a stateful RNN that can process sequences of arbitrary length. To deal with variable-length output sequences, you can use a special token to mark the end of the sequence, or you can pad the output sequences with a special padding token to make them fit in the same tensor. Another option is to use an attention mechanism, which allows the model to focus on the most relevant parts of the input sequence at each step of the decoding process."
   ]
  },
  {
   "cell_type": "markdown",
   "metadata": {},
   "source": [
    "## 4.\tWhat is beam search and why would you use it? What tool can you use to implement it?\n",
    "\n",
    "Ans=>\n",
    "\n",
    "Beam search is an algorithm used for finding the most likely sequence of outputs from a language model. It is commonly used in natural language processing, speech recognition, and other sequence prediction tasks. The algorithm considers the n most probable sequences of outputs, called beams, at each time step, and then continues to the next step with each of these beams. At each step, each beam is further expanded, and the most probable sequences are kept. The process continues until the end of the sequence is reached. The tool commonly used to implement beam search is TensorFlow's tf.nn.ctc_beam_search_decoder function."
   ]
  },
  {
   "cell_type": "markdown",
   "metadata": {},
   "source": [
    "## 5.\tWhat is an attention mechanism? How does it help?\n",
    "\n",
    "Ans=>\n",
    "\n",
    "An attention mechanism is a technique used in neural networks for assigning different weights to different parts of an input sequence, based on their relevance to the current output. It helps the model to focus on the most important parts of the input sequence and to better capture the dependencies between the input and output sequences. In natural language processing, attention mechanisms have been used in machine translation, text summarization, and other tasks."
   ]
  },
  {
   "cell_type": "markdown",
   "metadata": {},
   "source": [
    "## 6.\tWhat is the most important layer in the Transformer architecture? What is its purpose?\n",
    "\n",
    "Ans=>\n",
    "\n",
    "The most important layer in the Transformer architecture is the self-attention layer. Its purpose is to capture the dependencies between the input and output sequences by attending to different parts of the input sequence at different positions. This layer uses a scaled dot-product attention mechanism to compute the attention scores between the query (the current position in the output sequence) and the keys and values (the input sequence)."
   ]
  },
  {
   "cell_type": "markdown",
   "metadata": {},
   "source": [
    "## 7.\tWhen would you need to use sampled softmax?\n",
    "\n",
    "\n",
    "\n",
    "Ans=>\n",
    "\n",
    "Sampled softmax is used to speed up the training of large output vocabularies in language models. Instead of computing the softmax function over the entire vocabulary, which can be computationally expensive, it computes the softmax only over a small sample of the vocabulary. The sample is selected at random and updated at each iteration. This approach is particularly useful when dealing with large output vocabularies, such as in machine translation or language modeling."
   ]
  },
  {
   "cell_type": "markdown",
   "metadata": {},
   "source": [
    "## ----------------------------------------------------------------------------------------------------------------------------------"
   ]
  }
 ],
 "metadata": {
  "kernelspec": {
   "display_name": "Python 3",
   "language": "python",
   "name": "python3"
  },
  "language_info": {
   "codemirror_mode": {
    "name": "ipython",
    "version": 3
   },
   "file_extension": ".py",
   "mimetype": "text/x-python",
   "name": "python",
   "nbconvert_exporter": "python",
   "pygments_lexer": "ipython3",
   "version": "3.8.10"
  }
 },
 "nbformat": 4,
 "nbformat_minor": 4
}
