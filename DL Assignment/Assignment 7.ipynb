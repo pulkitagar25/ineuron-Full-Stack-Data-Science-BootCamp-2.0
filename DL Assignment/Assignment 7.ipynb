{
 "cells": [
  {
   "cell_type": "markdown",
   "metadata": {},
   "source": [
    "## Assignment 7"
   ]
  },
  {
   "cell_type": "markdown",
   "metadata": {},
   "source": [
    "## 1.\tCan you think of a few applications for a sequence-to-sequence RNN? What about a sequence-to-vector RNN, and a vector-to-sequence RNN?\n",
    "\n",
    "\n",
    "Ans=>\n",
    "\n",
    "Here are some applications for the following RNN types:\n",
    "\n",
    "- Sequence-to-sequence RNN: language translation, text summarization, chatbots, speech recognition, handwriting recognition, image captioning, etc.\n",
    "- Sequence-to-vector RNN: sentiment analysis, document classification, spam detection, stock price prediction, etc.\n",
    "- Vector-to-sequence RNN: image or music generation, text generation, question-answering systems, etc."
   ]
  },
  {
   "cell_type": "markdown",
   "metadata": {},
   "source": [
    "## 2.\tHow many dimensions must the inputs of an RNN layer have? What does each dimension represent? What about its outputs?\n",
    "\n",
    "Ans=>\n",
    "\n",
    "The inputs to an RNN layer must have three dimensions: batch size, sequence length, and number of features. The batch size is the number of examples in a batch, the sequence length is the number of time steps in the sequence, and the number of features is the number of input features at each time step. The outputs of an RNN layer also have three dimensions: batch size, sequence length (if return_sequences=True), and number of units in the RNN layer."
   ]
  },
  {
   "cell_type": "markdown",
   "metadata": {},
   "source": [
    "## 3.\tIf you want to build a deep sequence-to-sequence RNN, which RNN layers should have return_sequences=True? What about a sequence-to-vector RNN?\n",
    "\n",
    "Ans=>\n",
    "\n",
    "In a deep sequence-to-sequence RNN, all RNN layers should have return_sequences=True except for the last one, which should have return_sequences=False. This ensures that the final output is a single vector summarizing the entire sequence. In a sequence-to-vector RNN, only the last RNN layer should have return_sequences=False."
   ]
  },
  {
   "cell_type": "markdown",
   "metadata": {},
   "source": [
    "## 4.\tSuppose you have a daily univariate time series, and you want to forecast the next seven days. Which RNN architecture should you use?\n",
    "\n",
    "\n",
    "\n",
    "Ans=>\n",
    "\n",
    "To forecast the next seven days of a daily univariate time series, a simple approach could be to use a sequence-to-vector RNN. Specifically, the input would be a sequence of, say, 30 days, and the output would be a single value representing the forecast for the next seven days."
   ]
  },
  {
   "cell_type": "markdown",
   "metadata": {},
   "source": [
    "## 5.\tWhat are the main difficulties when training RNNs? How can you handle them?\n",
    "\n",
    "\n",
    "Ans=>\n",
    "\n",
    "When training RNNs, there are several main difficulties that can arise, including:\n",
    "\n",
    "- Vanishing gradients: gradients can become very small when backpropagating through many time steps, making learning very slow or even impossible. This can be handled using techniques such as gradient clipping, layer normalization, or using more advanced RNN cells such as LSTMs or GRUs.\n",
    "\n",
    "- Exploding gradients: gradients can become very large, which can cause the optimization algorithm to overshoot the optimal solution. This can be handled using gradient clipping.\n",
    "\n",
    "- Overfitting: RNNs have a large number of parameters and can easily overfit the training data. This can be handled using techniques such as regularization (e.g., L1 or L2 regularization, dropout), early stopping, or using more data.\n",
    "\n",
    "- Slow convergence: training RNNs can be slow, especially for long sequences. This can be handled using techniques such as batch normalization, layer normalization, or using more advanced optimization algorithms such as Adam or RMSprop.\n",
    "\n",
    "- Handling long-term dependencies: RNNs can have difficulty learning long-term dependencies, i.e., relationships between inputs that are separated by many time steps. This can be handled using more advanced RNN cells such as LSTMs or GRUs, or using attention mechanisms."
   ]
  },
  {
   "attachments": {
    "download%20%281%29.png": {
     "image/png": "[encoded data removed]"
    }
   },
   "cell_type": "markdown",
   "metadata": {},
   "source": [
    "## 6.\tCan you sketch the LSTM cell’s architecture?\n",
    "\n",
    "Ans=>\n",
    "\n",
    "![download%20%281%29.png](attachment:download%20%281%29.png)"
   ]
  },
  {
   "cell_type": "markdown",
   "metadata": {},
   "source": [
    "## 7.\tWhy would you want to use 1D convolutional layers in an RNN?\n",
    "\n",
    "\n",
    "\n",
    "Ans=>\n",
    "\n",
    "1D convolutional layers can be used in an RNN for various reasons, such as:\n",
    "\n",
    "- Extracting high-level temporal features from the input sequence, which may be useful for many tasks like sentiment analysis, audio processing, speech recognition, etc.\n",
    "- Compressing the input sequence by sliding a window over it and performing convolutions with shared weights, which may lead to a lower number of parameters and faster training.\n",
    "- Handling inputs of varying length by adding padding to shorter sequences, which can be easily done using 1D convolutional layers."
   ]
  },
  {
   "cell_type": "markdown",
   "metadata": {},
   "source": [
    "## 8.\tWhich neural network architecture could you use to classify videos?\n",
    "\n",
    "\n",
    "Ans=>\n",
    "\n",
    "\n",
    "To classify videos, you could use a neural network architecture that extends the 2D convolutional neural network architecture used for image classification to the temporal domain. Some popular architectures for video classification are:\n",
    "\n",
    "- Two-Stream Convolutional Neural Networks: This architecture separates spatial and temporal processing by using two parallel CNNs, one processing the RGB frames and the other processing the optical flow frames.\n",
    "- 3D Convolutional Neural Networks: This architecture extends the 2D CNNs to 3D by adding a temporal dimension to the convolutional kernels, allowing them to directly learn spatiotemporal features from videos.\n",
    "- Convolutional Recurrent Neural Networks: This architecture combines the advantages of both convolutional and recurrent neural networks by using 2D convolutional layers to extract spatial features from frames and recurrent layers to model the temporal dependencies between frames."
   ]
  },
  {
   "cell_type": "markdown",
   "metadata": {},
   "source": [
    "## 9.Train a classification model for the SketchRNN dataset, available in TensorFlow Datasets.\n",
    "\n",
    "Ans=>\n",
    "\n"
   ]
  },
  {
   "cell_type": "markdown",
   "metadata": {},
   "source": [
    "## ----------------------------------------------------------------------------------------------------------------------------------"
   ]
  }
 ],
 "metadata": {
  "kernelspec": {
   "display_name": "Python 3",
   "language": "python",
   "name": "python3"
  },
  "language_info": {
   "codemirror_mode": {
    "name": "ipython",
    "version": 3
   },
   "file_extension": ".py",
   "mimetype": "text/x-python",
   "name": "python",
   "nbconvert_exporter": "python",
   "pygments_lexer": "ipython3",
   "version": "3.8.10"
  }
 },
 "nbformat": 4,
 "nbformat_minor": 4
}
