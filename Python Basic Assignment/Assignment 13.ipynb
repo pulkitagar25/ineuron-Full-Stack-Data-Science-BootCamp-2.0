{
 "cells": [
  {
   "cell_type": "markdown",
   "metadata": {},
   "source": [
    "## Assignment 13"
   ]
  },
  {
   "cell_type": "markdown",
   "metadata": {},
   "source": [
    "## 1. What advantages do Excel spreadsheets have over CSV spreadsheets?\n",
    "\n",
    "\n",
    "\n",
    "Ans=>\n",
    "\n",
    "The Advantages of Excel over CSV are:\n",
    "\n",
    "1. Excel (XLS and XLSX) file formats are better for storing and analysing complex data.\n",
    "2. An Excel not only stores data but can also do operations on the data using macros, formulas etc\n",
    "3. CSV files are plain-text files, Does not contain formatting, formulas, macros, etc. It is also known as flat files"
   ]
  },
  {
   "cell_type": "markdown",
   "metadata": {},
   "source": [
    "## 2.What do you pass to csv.reader() and csv.writer() to create reader and writer objects?\n",
    "\n",
    "Ans=>\n",
    "\n"
   ]
  },
  {
   "cell_type": "code",
   "execution_count": null,
   "metadata": {},
   "outputs": [],
   "source": [
    "import csv\n",
    "file_csv = open('abc.csv')\n",
    "filereader = csv.reader(file_csv)\n",
    "fileData = list(filereader)\n",
    "fileData\n"
   ]
  },
  {
   "cell_type": "markdown",
   "metadata": {},
   "source": [
    "## 3. What modes do File objects for reader and writer objects need to be opened in?\n",
    "\n",
    "\n",
    "Ans=>\n",
    "\n",
    "For csv.reader(iterable_file_object), the file objects needed to be opened in read mode mode='r' Whereas for csv.writer(iterable_file_object) the file objects needed to be opened in write mode mode='w'"
   ]
  },
  {
   "cell_type": "markdown",
   "metadata": {},
   "source": [
    "## 4. What method takes a list argument and writes it to a CSV file?\n",
    "\n",
    "\n",
    "Ans=>\n",
    "The writerow() method\n"
   ]
  },
  {
   "cell_type": "code",
   "execution_count": null,
   "metadata": {},
   "outputs": [],
   "source": [
    "File_abc = open('abc.csv','w')\n",
    "File_Writer = csv.writer(File_abc)\n",
    "csv.writer(File_abc).writerow(['cat','fish','dog'])"
   ]
  },
  {
   "cell_type": "markdown",
   "metadata": {},
   "source": [
    "## 5. What do the keyword arguments delimiter and line terminator do?\n",
    "\n",
    "\n",
    "Ans=>\n",
    "\n",
    "- The delimiter argument changes the string used to separate cells in a row.\n",
    "- The line terminator argument changes the string used to separate rows."
   ]
  },
  {
   "cell_type": "markdown",
   "metadata": {},
   "source": [
    "## 6. What function takes a string of JSON data and returns a Python data structure?\n",
    "\n",
    "\n",
    "Ans=>\n",
    "\n",
    "json.loads()"
   ]
  },
  {
   "cell_type": "markdown",
   "metadata": {},
   "source": [
    "## 7. What function takes a Python data structure and returns a string of JSON data?\n",
    "\n",
    "\n",
    "Ans=>\n",
    "\n",
    "json.dumps()"
   ]
  },
  {
   "cell_type": "markdown",
   "metadata": {},
   "source": [
    "## ----------------------------------------------------------------------------------------------------------------------------------"
   ]
  }
 ],
 "metadata": {
  "kernelspec": {
   "display_name": "Python 3",
   "language": "python",
   "name": "python3"
  },
  "language_info": {
   "codemirror_mode": {
    "name": "ipython",
    "version": 3
   },
   "file_extension": ".py",
   "mimetype": "text/x-python",
   "name": "python",
   "nbconvert_exporter": "python",
   "pygments_lexer": "ipython3",
   "version": "3.8.10"
  }
 },
 "nbformat": 4,
 "nbformat_minor": 4
}
