{
 "cells": [
  {
   "cell_type": "markdown",
   "metadata": {},
   "source": [
    "## Assignment 2"
   ]
  },
  {
   "cell_type": "markdown",
   "metadata": {},
   "source": [
    "### 1.What are the two values of the Boolean data type? How do you write them?\n",
    "\n",
    "##### Ans=>\n",
    "True and False are two values of the boolen data types.\n"
   ]
  },
  {
   "cell_type": "code",
   "execution_count": 1,
   "metadata": {},
   "outputs": [
    {
     "name": "stdout",
     "output_type": "stream",
     "text": [
      "True <class 'bool'>\n",
      "False <class 'bool'>\n"
     ]
    }
   ],
   "source": [
    "a =True\n",
    "b= False\n",
    "print(a,type(a))\n",
    "print(b,type(b))"
   ]
  },
  {
   "cell_type": "markdown",
   "metadata": {},
   "source": [
    "### 2. What are the three different types of Boolean operators?\n",
    "\n",
    "##### Ans=>\n",
    "Three different types of Boolean operators:-\n",
    "- AND boolean operator :-  the operator analyzes the expressions written on both sides and returns the output.\n",
    "- OR boolean operator :- If at least one expression is true, consequently, the result is true.\n",
    "- NOT boolean operator :- The NOT operator reverses the result of the boolean expression that follows the operator. "
   ]
  },
  {
   "cell_type": "code",
   "execution_count": 3,
   "metadata": {},
   "outputs": [
    {
     "name": "stdout",
     "output_type": "stream",
     "text": [
      "True\n"
     ]
    }
   ],
   "source": [
    "# and operator\n",
    "a=40\n",
    "b= 30\n",
    "\n",
    "if(a > b and b > 0):\n",
    "    print(True)\n",
    "else:\n",
    "    print(False)\n"
   ]
  },
  {
   "cell_type": "code",
   "execution_count": 4,
   "metadata": {},
   "outputs": [
    {
     "name": "stdout",
     "output_type": "stream",
     "text": [
      "True\n"
     ]
    }
   ],
   "source": [
    "# or operator\n",
    "a = 10\n",
    "b=5\n",
    "if( a ==0 or b >1):\n",
    "    print(True)\n",
    "else:\n",
    "    print(False)"
   ]
  },
  {
   "cell_type": "code",
   "execution_count": 5,
   "metadata": {},
   "outputs": [
    {
     "name": "stdout",
     "output_type": "stream",
     "text": [
      "False\n"
     ]
    }
   ],
   "source": [
    "# not operator\n",
    "a = 5\n",
    "\n",
    "b = 5\n",
    "\n",
    "if(not(a == b)):\n",
    "  print(True)\n",
    "\n",
    "else:\n",
    "  print(False)"
   ]
  },
  {
   "cell_type": "markdown",
   "metadata": {},
   "source": [
    "### 3. Make a list of each Boolean operator's truth tables (i.e. every possible combination of Boolean values for the operator and what it evaluate) ?\n",
    "\n",
    "\n",
    "### Ans=>\n",
    "The Truth tables for the boolean tables are as follows:\n",
    "\n",
    "1. Truth Table for and operaotor\n",
    "- True and True is True\n",
    "- True and False is False\n",
    "- False and True is False\n",
    "- False and False is False\n",
    "\n",
    "2. Truth Table for or operaotor\n",
    "- True and True is True\n",
    "- True and False is True\n",
    "- False and True is True\n",
    "- False and False is False\n",
    "\n",
    "3. Truth Table for not operaotor\n",
    "- True not is False False not is True"
   ]
  },
  {
   "cell_type": "markdown",
   "metadata": {},
   "source": [
    "### 4. What are the values of the following expressions?\n",
    "- (5 > 4) and (3 == 5)\n",
    "\n",
    "- not (5 > 4)\n",
    "\n",
    "- (5 > 4) or (3 == 5)\n",
    "\n",
    "- not ((5 > 4) or (3 == 5))\n",
    "\n",
    "- (True and True) and (True == False)\n",
    "\n",
    "- (not False) or (not True)"
   ]
  },
  {
   "cell_type": "code",
   "execution_count": 8,
   "metadata": {},
   "outputs": [
    {
     "name": "stdout",
     "output_type": "stream",
     "text": [
      "False\n",
      "False\n",
      "False\n",
      "True\n",
      "False\n",
      "False\n",
      "True\n"
     ]
    }
   ],
   "source": [
    "print((5 > 4) and (3 == 5)) \n",
    "print((5 > 4) and (3 == 5))\n",
    "print(not(5 > 4))\n",
    "print((5 > 4) or (3 == 5))\n",
    "print(not ((5 > 4) or (3 == 5)))\n",
    "print((True and True) and (True == False))\n",
    "print((not False) or (not True))"
   ]
  },
  {
   "cell_type": "markdown",
   "metadata": {},
   "source": [
    "#### 5. What are the six comparison operators?\n",
    "\n",
    "##### Ans=>\n",
    "\n",
    "Python has six comparison operators, which are as follows:\n",
    "\n",
    "- Less than ( < )\n",
    "- Less than or equal to (<=)\n",
    "- Greater than (>)\n",
    "- Greater than or equal to (>=)\n",
    "- Equal to ( == )\n",
    "- Not equal to ( != )\n",
    "- These comparison operators compare two values and return a boolean value, either True or False.\n",
    "\n",
    "And you can use these comparison operators to compare both numbers and strings."
   ]
  },
  {
   "cell_type": "markdown",
   "metadata": {},
   "source": [
    "#### 6. How do you tell the difference between the equal to and assignment operators?Describe a condition and when you would use one.\n",
    "\n",
    "##### Ans=>\n",
    "\n",
    "- The ‘==’ operator checks whether the two given operands are equal or not. If so, it returns true. Otherwise it returns false.\n",
    "\n",
    "- The “=” is an assignment operator is used to assign the value on the right to the variable on the left."
   ]
  },
  {
   "cell_type": "code",
   "execution_count": 1,
   "metadata": {},
   "outputs": [
    {
     "data": {
      "text/plain": [
       "True"
      ]
     },
     "execution_count": 1,
     "metadata": {},
     "output_type": "execute_result"
    }
   ],
   "source": [
    "# e.g. equal to operator\n",
    "6 > 1"
   ]
  },
  {
   "cell_type": "code",
   "execution_count": 2,
   "metadata": {},
   "outputs": [
    {
     "name": "stdout",
     "output_type": "stream",
     "text": [
      "5\n"
     ]
    }
   ],
   "source": [
    "# e.g. assignment operator\n",
    "\n",
    "a=5\n",
    "\n",
    "print(a)"
   ]
  },
  {
   "cell_type": "markdown",
   "metadata": {},
   "source": [
    "#### 7. Identify the three blocks in this code:\n",
    "spam = 0\n",
    "if spam == 10:\n",
    "print('eggs')\n",
    "if spam > 5:\n",
    "print('bacon')\n",
    "else:\n",
    "print('ham')\n",
    "print('spam')\n",
    "print('spam')\n",
    "\n",
    "##### Ans=>\n",
    "\n",
    "In Python, code block refers to a collection of code that is in the same block or indent. This is most commonly found in classes, functions, and loops."
   ]
  },
  {
   "cell_type": "code",
   "execution_count": 4,
   "metadata": {},
   "outputs": [
    {
     "name": "stdout",
     "output_type": "stream",
     "text": [
      "ham\n",
      "spam\n",
      "spam\n"
     ]
    }
   ],
   "source": [
    "spam = 0\n",
    "if spam == 10:\n",
    "    print('eggs')  # block 1\n",
    "if spam > 5:\n",
    "    print('bacon') #  block 2\n",
    "else:\n",
    "    print('ham')\n",
    "    print('spam')  #block 3\n",
    "    print('spam')"
   ]
  },
  {
   "cell_type": "markdown",
   "metadata": {},
   "source": [
    "#### 8. Write code that prints Hello if 1 is stored in spam, prints Howdy if 2 is stored in spam, and prints Greetings! if anything else is stored in spam."
   ]
  },
  {
   "cell_type": "code",
   "execution_count": 7,
   "metadata": {},
   "outputs": [
    {
     "name": "stdout",
     "output_type": "stream",
     "text": [
      "Hello\n",
      "Howdy\n",
      "Greetings\n"
     ]
    }
   ],
   "source": [
    "def num(spam):\n",
    "    if(spam==1):\n",
    "        print(\"Hello\")\n",
    "    elif(spam==2):\n",
    "        print(\"Howdy\")\n",
    "    else:\n",
    "        print(\"Greetings\")\n",
    "\n",
    "num(1)\n",
    "num(2)\n",
    "num(5)"
   ]
  },
  {
   "cell_type": "markdown",
   "metadata": {},
   "source": [
    "#### 9.If your programme is stuck in an endless loop, what keys you’ll press?\n",
    "\n",
    "##### Ans=>\n",
    "\n",
    "To stop the program, we will need to interrupt the loop manually by pressing CTRL + C."
   ]
  },
  {
   "cell_type": "markdown",
   "metadata": {},
   "source": [
    "#### 10. How can you tell the difference between break and continue?\n",
    "\n",
    "#### Ans=>\n",
    "\n",
    "- A break statement, when used inside the loop, will terminate the loop and exit. If used inside nested loops, it will break out from the current loop.\n",
    "\n",
    "- A continue statement will stop the current execution when used inside a loop, and the control will go back to the start of the loop.\n",
    "\n",
    "\n",
    "The main difference between break and continue statement is that when break keyword is encountered, it will exit the loop.\n",
    "\n",
    "In case of continue keyword, the current iteration that is running will be stopped, and it will proceed with the next iteration."
   ]
  },
  {
   "cell_type": "markdown",
   "metadata": {},
   "source": [
    "#### 11. In a for loop, what is the difference between range(10), range(0, 10), and range(0, 10, 1)?\n",
    "\n",
    "#### Ans=>\n",
    "\n",
    "- range(10) : range from 0 to 9 \n",
    "\n",
    "- range(0,10) : loop start at 0\n",
    "\n",
    "- range(0,10,1) :  loop will increase the variable by 1 on each iteration"
   ]
  },
  {
   "cell_type": "markdown",
   "metadata": {},
   "source": [
    "#### 12. Write a short program that prints the numbers 1 to 10 using a for loop. Then write an equivalent program that prints the numbers 1 to 10 using a while loop.\n"
   ]
  },
  {
   "cell_type": "code",
   "execution_count": 10,
   "metadata": {},
   "outputs": [
    {
     "name": "stdout",
     "output_type": "stream",
     "text": [
      "0 1 2 3 4 5 6 7 8 9 10 "
     ]
    }
   ],
   "source": [
    "# using for loop\n",
    "for i in range(0,11):\n",
    "    print(i,end=\" \")\n"
   ]
  },
  {
   "cell_type": "code",
   "execution_count": 14,
   "metadata": {},
   "outputs": [
    {
     "name": "stdout",
     "output_type": "stream",
     "text": [
      "1 2 3 4 5 6 7 8 9 10 "
     ]
    }
   ],
   "source": [
    "# using while loop\n",
    "i=1\n",
    "while i<=10:\n",
    "    print(i, end=\" \")\n",
    "    i+=1"
   ]
  },
  {
   "cell_type": "markdown",
   "metadata": {},
   "source": [
    "#### 13. If you had a function named bacon() inside a module named spam, how would you call it after importing spam?\n",
    "\n",
    "#### Ans=>\n",
    "spam.bacon()"
   ]
  },
  {
   "cell_type": "code",
   "execution_count": null,
   "metadata": {},
   "outputs": [],
   "source": []
  }
 ],
 "metadata": {
  "kernelspec": {
   "display_name": "Python 3",
   "language": "python",
   "name": "python3"
  },
  "language_info": {
   "codemirror_mode": {
    "name": "ipython",
    "version": 3
   },
   "file_extension": ".py",
   "mimetype": "text/x-python",
   "name": "python",
   "nbconvert_exporter": "python",
   "pygments_lexer": "ipython3",
   "version": "3.8.10"
  }
 },
 "nbformat": 4,
 "nbformat_minor": 4
}
