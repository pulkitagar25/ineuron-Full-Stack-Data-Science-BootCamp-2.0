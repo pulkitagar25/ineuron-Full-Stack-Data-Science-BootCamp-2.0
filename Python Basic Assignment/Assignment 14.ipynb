{
 "cells": [
  {
   "cell_type": "markdown",
   "metadata": {},
   "source": [
    "## Assignment 14"
   ]
  },
  {
   "cell_type": "markdown",
   "metadata": {},
   "source": [
    "## 1. What does RGBA stand for?\n",
    "\n",
    "\n",
    "Ans=>\n",
    "\n",
    " RGBA is a four-channel format containing data for Red, Green, Blue, and an Alpha value. Where Alpha Represents the Opacity"
   ]
  },
  {
   "cell_type": "markdown",
   "metadata": {},
   "source": [
    "## 2. From the Pillow module, how do you get the RGBA value of any images?\n",
    "\n",
    "Ans=>\n",
    "\n",
    "ImageColor.getcolor() gives rgba value of any image"
   ]
  },
  {
   "cell_type": "markdown",
   "metadata": {},
   "source": [
    "## 3. What is a box tuple, and how does it work?\n",
    "\n",
    "\n",
    "\n",
    "Ans=>\n",
    "\n",
    "A box tuple is a tuple value of four integers: the left-edge x-coordinate, the top-edge y-coordinate,the width, and the height, respectively."
   ]
  },
  {
   "cell_type": "markdown",
   "metadata": {},
   "source": [
    "## 4. Use your image and load in notebook then, How can you find out the width and height of an Image object?\n",
    "\n",
    "\n",
    "Ans=>\n",
    "\n"
   ]
  },
  {
   "cell_type": "code",
   "execution_count": 4,
   "metadata": {},
   "outputs": [
    {
     "name": "stdout",
     "output_type": "stream",
     "text": [
      "Width, Height -> (1799, 2088)\n",
      "Width, Height -> 1799,2088\n",
      "Width, Height -> 1799,2088\n"
     ]
    }
   ],
   "source": [
    "from PIL import Image\n",
    "\n",
    "pic = Image.open('PP.jpg')\n",
    "print(f'Width, Height -> {pic.size}') # Approach 1\n",
    "print(f'Width, Height -> {pic.width},{pic.height}') # Approach 2\n",
    "width,height = pic.size\n",
    "print(f'Width, Height -> {width},{height}') # Approach 3\n",
    "\n"
   ]
  },
  {
   "cell_type": "markdown",
   "metadata": {},
   "source": [
    "## 5. What method would you call to get Image object for a 100×100 image, excluding the lower-left quarter of it?\n",
    "\n",
    "Ans=>\n",
    "\n",
    "ImageObject.crop((0, 50, 50, 50))"
   ]
  },
  {
   "cell_type": "markdown",
   "metadata": {},
   "source": [
    "## 6. After making changes to an Image object, how could you save it as an image file?\n",
    "\n",
    "\n",
    "\n",
    "Ans=>\n",
    "\n",
    "By Calling the imageObj.save('new_filename.png') method of the Image object."
   ]
  },
  {
   "cell_type": "markdown",
   "metadata": {},
   "source": [
    "## 7. What module contains Pillow’s shape-drawing code?\n",
    "\n",
    "\n",
    "Ans=>\n",
    "\n",
    "The ImageDraw module contains code to draw on images"
   ]
  },
  {
   "cell_type": "markdown",
   "metadata": {},
   "source": [
    "## 8. Image objects do not have drawing methods. What kind of object does? How do you get this kind of object?\n",
    "\n",
    "Ans=>\n",
    "\n",
    "ImageDraw objects have shape-drawing methods such as point(), line(), or rectangle(). They are returned by passing the Image object to the ImageDraw.Draw() function"
   ]
  },
  {
   "cell_type": "markdown",
   "metadata": {},
   "source": [
    "## ----------------------------------------------------------------------------------------------------------------------------------"
   ]
  }
 ],
 "metadata": {
  "kernelspec": {
   "display_name": "Python 3",
   "language": "python",
   "name": "python3"
  },
  "language_info": {
   "codemirror_mode": {
    "name": "ipython",
    "version": 3
   },
   "file_extension": ".py",
   "mimetype": "text/x-python",
   "name": "python",
   "nbconvert_exporter": "python",
   "pygments_lexer": "ipython3",
   "version": "3.8.10"
  }
 },
 "nbformat": 4,
 "nbformat_minor": 4
}
