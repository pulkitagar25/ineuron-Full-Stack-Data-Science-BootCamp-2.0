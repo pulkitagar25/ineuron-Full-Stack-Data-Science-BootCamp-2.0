{
 "cells": [
  {
   "cell_type": "markdown",
   "metadata": {},
   "source": [
    "## Assignment 1"
   ]
  },
  {
   "cell_type": "markdown",
   "metadata": {},
   "source": [
    "## 1.\tExplain One-Hot Encoding\n",
    "\n",
    "\n",
    "\n",
    "Ans=>\n",
    "\n",
    "One hot encoding can be defined as the essential process of converting the categorical data variables to be provided to machine and deep learning algorithms which in turn improve predictions as well as classification accuracy of a model. One Hot Encoding is a common way of preprocessing categorical features for machine learning models. This type of encoding creates a new binary feature for each possible category and assigns a value of 1 to the feature of each sample that corresponds to its original category. \n",
    "\n",
    "One hot encoding is a highly essential part of the feature engineering process in training for learning techniques. For example, we had our variables like colors and the labels were “red,” “green,” and “blue,” we could encode each of these labels as a three-element binary vector as Red: [1, 0, 0], Green: [0, 1, 0], Blue: [0, 0, 1]. "
   ]
  },
  {
   "cell_type": "markdown",
   "metadata": {},
   "source": [
    "## 2.\tExplain Bag of Words\n",
    "\n",
    "\n",
    "Ans=>\n",
    "\n",
    "Bag of Words (BoW) is a representation technique for text data in natural language processing. It transforms text documents into numerical vectors that can be used as input to machine learning algorithms. In BoW, a text document is represented as a bag or multiset of words, disregarding grammar, order, or structure. Each unique word in the document is represented by a dimension in the numerical vector, and the value of the dimension is the frequency of the word in the document. This simple representation is useful in practice for tasks such as text classification, information retrieval, and clustering."
   ]
  },
  {
   "cell_type": "markdown",
   "metadata": {},
   "source": [
    "## 3.\tExplain Bag of N-Grams\n",
    "\n",
    "\n",
    "Ans=>\n",
    "\n",
    "Bag of N-Grams (BoN) is an extension of the Bag of Words (BoW) representation technique for text data. While BoW only considers the frequency of individual words in a document, BoN considers sequences of words, called n-grams, as the basic building blocks. An n-gram is a contiguous sequence of n words in a document, and n can be any positive integer.\n",
    "\n",
    "In BoN, each unique n-gram in the document is represented by a dimension in the numerical vector, and the value of the dimension is the frequency of that n-gram in the document. By considering n-grams, BoN captures local relationships between words, preserving more of the context and structure of the text than BoW. However, increasing the value of n also increases the dimensionality of the representation, leading to the challenge of high-dimensional data and sparsity.\n",
    "\n",
    "BoN is commonly used in NLP tasks such as text classification, information retrieval, and language modeling."
   ]
  },
  {
   "attachments": {
    "download.jpg": {
     "image/jpeg": "[encoded data removed]"
    }
   },
   "cell_type": "markdown",
   "metadata": {},
   "source": [
    "## 4.\tExplain TF-IDF\n",
    "\n",
    "Ans=>\n",
    "\n",
    "TF-IDF (Term Frequency-Inverse Document Frequency) is a numerical statistic that is used to reflect the importance of a word in a document relative to a corpus of documents. It is a common method for text feature extraction and has been widely used in information retrieval and natural language processing.\n",
    "\n",
    "TF-IDF is the product of two metrics:\n",
    "\n",
    "Term Frequency (TF): Represents the number of times a word appears in a document. The term frequency is calculated as the ratio of the number of times a word appears in a document to the total number of words in the document.\n",
    "\n",
    "Inverse Document Frequency (IDF): Represents the importance of a word across the corpus of documents. It is calculated as the logarithm of the ratio of the total number of documents in the corpus to the number of documents containing the word.\n",
    "\n",
    "The TF-IDF score of a word in a document reflects how frequently the word appears in the document, while also down-weighting the score for words that appear frequently across the corpus of documents. This allows words that are unique or distinctive to the document to be emphasized.\n",
    "\n",
    "In practice, TF-IDF is used to transform text into a numerical representation, which can then be used as input to machine learning algorithms for tasks such as text classification, information retrieval, and clustering.\n",
    "![download.jpg](attachment:download.jpg)"
   ]
  },
  {
   "cell_type": "markdown",
   "metadata": {},
   "source": [
    "## 5.\tWhat is OOV problem?\n",
    "\n",
    "\n",
    "Ans=>\n",
    "\n",
    "OOV (Out-of-Vocabulary) is a problem that arises in natural language processing when the model encounters a word that was not present in its training data. The OOV problem occurs because most NLP models, such as bag-of-words and TF-IDF, rely on a fixed vocabulary, which is a pre-determined set of words that are deemed most important or relevant for the task at hand.\n",
    "\n",
    "When the model encounters a word that is not in the vocabulary, it is unable to make any predictions about it. This can lead to degraded performance on the NLP task, especially for low-frequency or rare words that are important for understanding the meaning of a text.\n",
    "\n",
    "To address the OOV problem, various techniques have been developed, such as using n-grams instead of individual words, using word embeddings to represent words as dense vectors, or using techniques like backoff or smoothing to generate predictions for OOV words based on their similarities to other words in the vocabulary."
   ]
  },
  {
   "cell_type": "markdown",
   "metadata": {},
   "source": [
    "## 6.\tWhat are word embeddings?\n",
    "\n",
    "\n",
    "\n",
    "Ans=>\n",
    "\n",
    "Word embeddings are dense, continuous vector representations of words used in natural language processing. Unlike the traditional bag-of-words and TF-IDF representations, which only capture the frequency and presence of words in a text, word embeddings capture semantic and syntactic relationships between words.\n",
    "\n",
    "Word embeddings are learned by training a neural network on a large corpus of text, using a language modeling objective that predicts the next word in a sequence based on the previous words. During training, the neural network learns to map each word in the vocabulary to a dense, low-dimensional vector, such that semantically similar words are mapped to similar vectors. The resulting embeddings can then be used as input to other NLP models, such as text classification, information retrieval, and sequence labeling.\n",
    "\n",
    "Word embeddings have become a standard component in many NLP models and have been shown to improve performance on various tasks, due to their ability to capture the meaning and context of words in a text."
   ]
  },
  {
   "cell_type": "markdown",
   "metadata": {},
   "source": [
    "## 7.\tExplain Continuous bag of words (CBOW)\n",
    "\n",
    "Ans=>\n",
    "\n",
    "Continuous Bag of Words (CBOW) is a method for learning word embeddings, which are dense, continuous vector representations of words used in natural language processing. The CBOW method is used to predict the target word in a context based on the surrounding words.\n",
    "\n",
    "In CBOW, the input to the model is a set of context words, and the output is the target word in the center of the context. The model learns to predict the target word by mapping the context words to a dense, low-dimensional vector, which can then be used to represent the target word. The mapping is learned through a neural network with a language modeling objective, which is trained on a large corpus of text.\n",
    "\n",
    "The resulting embeddings capture the meaning and context of words in a text, and are useful as input to other NLP models, such as text classification, information retrieval, and sequence labeling. The CBOW method is often contrasted with the Skip-Gram method, which predicts the surrounding words based on the target word in the center. Both CBOW and Skip-Gram can be used to learn word embeddings, and the choice between the two methods often depends on the specifics of the task and the available data."
   ]
  },
  {
   "cell_type": "markdown",
   "metadata": {},
   "source": [
    "## 8.\tExplain SkipGram\n",
    "\n",
    "\n",
    "\n",
    "Ans=>\n",
    "\n",
    "Skip-Gram is a method for learning word embeddings, which are dense, continuous vector representations of words used in natural language processing. The Skip-Gram method is used to predict the surrounding words in a context based on the target word.\n",
    "\n",
    "In Skip-Gram, the input to the model is a target word, and the output is a set of context words surrounding the target word. The model learns to predict the context words by mapping the target word to a dense, low-dimensional vector, which can then be used to represent the target word. The mapping is learned through a neural network with a language modeling objective, which is trained on a large corpus of text.\n",
    "\n",
    "The resulting embeddings capture the meaning and context of words in a text, and are useful as input to other NLP models, such as text classification, information retrieval, and sequence labeling. The Skip-Gram method is often contrasted with the Continuous Bag of Words (CBOW) method, which predicts the target word based on the surrounding context words. Both Skip-Gram and CBOW can be used to learn word embeddings, and the choice between the two methods often depends on the specifics of the task and the available data."
   ]
  },
  {
   "cell_type": "markdown",
   "metadata": {},
   "source": [
    "## 9.\tExplain Glove Embeddings.\n",
    "\n",
    "Ans=>\n",
    "\n",
    "GloVe (Global Vectors for Word Representation) is a method for learning word embeddings, which are dense, continuous vector representations of words used in natural language processing. GloVe is based on a co-occurrence matrix of words in a corpus of text, which measures the frequency with which word pairs appear together in the same context.\n",
    "\n",
    "The GloVe method learns the word embeddings by training a regression model to predict the logarithm of the co-occurrence count between words from their embeddings. The regression model is trained to minimize the difference between the predicted logarithm of the co-occurrence count and the actual logarithm of the co-occurrence count, as estimated from the co-occurrence matrix.\n",
    "\n",
    "The resulting embeddings capture both the meaning and context of words in a text, and have been shown to be useful as input to other NLP models, such as text classification, information retrieval, and sequence labeling. GloVe has become a popular method for learning word embeddings, due to its ability to capture global information about word co-occurrence, as well as its scalability to large corpora of text."
   ]
  },
  {
   "cell_type": "markdown",
   "metadata": {},
   "source": [
    "## ----------------------------------------------------------------------------------------------------------------------------------"
   ]
  }
 ],
 "metadata": {
  "kernelspec": {
   "display_name": "Python 3",
   "language": "python",
   "name": "python3"
  },
  "language_info": {
   "codemirror_mode": {
    "name": "ipython",
    "version": 3
   },
   "file_extension": ".py",
   "mimetype": "text/x-python",
   "name": "python",
   "nbconvert_exporter": "python",
   "pygments_lexer": "ipython3",
   "version": "3.8.10"
  }
 },
 "nbformat": 4,
 "nbformat_minor": 4
}
